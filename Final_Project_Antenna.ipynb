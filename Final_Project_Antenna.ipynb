{
  "nbformat": 4,
  "nbformat_minor": 0,
  "metadata": {
    "colab": {
      "provenance": [],
      "include_colab_link": true
    },
    "kernelspec": {
      "name": "python3",
      "display_name": "Python 3"
    },
    "language_info": {
      "name": "python"
    }
  },
  "cells": [
    {
      "cell_type": "markdown",
      "metadata": {
        "id": "view-in-github",
        "colab_type": "text"
      },
      "source": [
        "<a href=\"https://colab.research.google.com/github/camstillo/electrodynamics/blob/master/Final_Project_Antenna.ipynb\" target=\"_parent\"><img src=\"https://colab.research.google.com/assets/colab-badge.svg\" alt=\"Open In Colab\"/></a>"
      ]
    },
    {
      "cell_type": "markdown",
      "source": [
        "# Install and Import"
      ],
      "metadata": {
        "id": "PNiEqAUvifKv"
      }
    },
    {
      "cell_type": "code",
      "source": [
        "from IPython import display"
      ],
      "metadata": {
        "id": "cR5K2_MSioRv"
      },
      "execution_count": 1,
      "outputs": []
    },
    {
      "cell_type": "code",
      "source": [
        "# Need to upgrade matplotlib for some PyVista plotting commands to work.\n",
        "# Run this cell, then select \"Runtime > Restart runtime\" from the CoLab menu.\n",
        "!pip install --upgrade matplotlib\n",
        "!pip install matplotlib==3.1.3\n",
        "display.clear_output()"
      ],
      "metadata": {
        "id": "HoIsG7Q-inxr"
      },
      "execution_count": 2,
      "outputs": []
    },
    {
      "cell_type": "code",
      "execution_count": 3,
      "metadata": {
        "id": "sO-81OILiG5s"
      },
      "outputs": [],
      "source": [
        "try:\n",
        "    import gmsh\n",
        "except ImportError:\n",
        "    !wget \"https://fem-on-colab.github.io/releases/gmsh-install.sh\" -O \"/tmp/gmsh-install.sh\" && bash \"/tmp/gmsh-install.sh\"\n",
        "    import gmsh\n",
        "\n",
        "display.clear_output()"
      ]
    },
    {
      "cell_type": "code",
      "source": [
        "# This simulation uses real values.\n",
        "try:\n",
        "    import dolfinx\n",
        "except ImportError:\n",
        "    !wget \"https://fem-on-colab.github.io/releases/fenicsx-install-real.sh\" -O \"/tmp/fenicsx-install.sh\" && bash \"/tmp/fenicsx-install.sh\"\n",
        "    import dolfinx\n",
        "\n",
        "display.clear_output()"
      ],
      "metadata": {
        "id": "EwNThpcFir2K"
      },
      "execution_count": 4,
      "outputs": []
    },
    {
      "cell_type": "code",
      "source": [
        "!pip install -U meshio\n",
        "!apt-get install python-lxml\n",
        "!meshio-convert perfect_contact.msh perfect_contact.xdmf\n",
        "import meshio\n",
        "\n",
        "display.clear_output()"
      ],
      "metadata": {
        "id": "upfpuWNTtXRb"
      },
      "execution_count": 5,
      "outputs": []
    },
    {
      "cell_type": "code",
      "source": [
        "try:\n",
        "    # Import multiphenicsx, mainly for plotting.\n",
        "    import multiphenicsx\n",
        "except ImportError:\n",
        "    # If they are not found, install them.\n",
        "    !pip3 install \"multiphenicsx@git+https://github.com/multiphenics/multiphenicsx.git@8b97b4e\"\n",
        "    import multiphenicsx\n",
        "    \n",
        "    display.clear_output()"
      ],
      "metadata": {
        "id": "NBcTMemt6CSE"
      },
      "execution_count": 6,
      "outputs": []
    },
    {
      "cell_type": "code",
      "source": [
        "# Everything should be installed now.\n",
        "# Import the rest of what we need.\n",
        "import gmsh\n",
        "\n",
        "from dolfinx import fem, mesh, plot, la\n",
        "from dolfinx.io import gmshio\n",
        "import ufl\n",
        "\n",
        "from mpi4py import MPI\n",
        "import petsc4py.PETSc as petsc\n",
        "\n",
        "import numpy as np\n",
        "import pyvista\n",
        "\n",
        "# Start a virtual plot window for PyVista in CoLab.\n",
        "!sudo apt install libgl1-mesa-glx xvfb\n",
        "!apt-get update\n",
        "pyvista.start_xvfb()\n",
        "pyvista.set_jupyter_backend(\"pythreejs\")\n",
        "\n",
        "# Get tools for embedding movies in CoLab.\n",
        "from base64 import b64encode\n",
        "\n",
        "display.clear_output();"
      ],
      "metadata": {
        "id": "Q4jLR2b6iu9C"
      },
      "execution_count": 7,
      "outputs": []
    },
    {
      "cell_type": "markdown",
      "source": [
        "#GMSH file import/Boundary Condition definition"
      ],
      "metadata": {
        "id": "F1v-_-ZHjtyu"
      }
    },
    {
      "cell_type": "code",
      "source": [
        "from dolfinx.io import gmshio\n",
        "\n",
        "# MPI communicator\n",
        "comm = MPI.COMM_WORLD\n",
        "\n",
        "file_name = \"Mesh1.msh\"\n",
        "domain, cell_tags, _ = gmshio.read_from_msh(file_name, comm, rank=0, gdim=3)\n",
        "\n",
        "# Prepare the mesh for plotting.\n",
        "topology, cells, geometry = dolfinx.plot.create_vtk_mesh(domain)\n",
        "\n",
        "# Turn the mesh into a PyVista grid.\n",
        "grid = pyvista.UnstructuredGrid(topology, cells, geometry)\n",
        "\n",
        "# Create the plot and export it to HTML.\n",
        "plotter = pyvista.Plotter(window_size=(800, 400))\n",
        "renderer = plotter.add_mesh(grid, style='wireframe')\n",
        "plotter.view_xy()\n",
        "\n",
        "# Save the HTML file.\n",
        "plotter.export_html(\"./grid.html\", backend=\"pythreejs\")\n",
        "\n",
        "# Use the IPython library to embed the HTML in the CoLab notebook.\n",
        "display.HTML(filename='/content/grid.html')"
      ],
      "metadata": {
        "id": "k0CDIjTMmJ8K",
        "colab": {
          "resources": {
            "http://localhost:8080/jupyter-threejs.js": {
              "data": "CjwhRE9DVFlQRSBodG1sPgo8aHRtbCBsYW5nPWVuPgogIDxtZXRhIGNoYXJzZXQ9dXRmLTg+CiAgPG1ldGEgbmFtZT12aWV3cG9ydCBjb250ZW50PSJpbml0aWFsLXNjYWxlPTEsIG1pbmltdW0tc2NhbGU9MSwgd2lkdGg9ZGV2aWNlLXdpZHRoIj4KICA8dGl0bGU+RXJyb3IgNDA0IChOb3QgRm91bmQpISExPC90aXRsZT4KICA8c3R5bGU+CiAgICAqe21hcmdpbjowO3BhZGRpbmc6MH1odG1sLGNvZGV7Zm9udDoxNXB4LzIycHggYXJpYWwsc2Fucy1zZXJpZn1odG1se2JhY2tncm91bmQ6I2ZmZjtjb2xvcjojMjIyO3BhZGRpbmc6MTVweH1ib2R5e21hcmdpbjo3JSBhdXRvIDA7bWF4LXdpZHRoOjM5MHB4O21pbi1oZWlnaHQ6MTgwcHg7cGFkZGluZzozMHB4IDAgMTVweH0qID4gYm9keXtiYWNrZ3JvdW5kOnVybCgvL3d3dy5nb29nbGUuY29tL2ltYWdlcy9lcnJvcnMvcm9ib3QucG5nKSAxMDAlIDVweCBuby1yZXBlYXQ7cGFkZGluZy1yaWdodDoyMDVweH1we21hcmdpbjoxMXB4IDAgMjJweDtvdmVyZmxvdzpoaWRkZW59aW5ze2NvbG9yOiM3Nzc7dGV4dC1kZWNvcmF0aW9uOm5vbmV9YSBpbWd7Ym9yZGVyOjB9QG1lZGlhIHNjcmVlbiBhbmQgKG1heC13aWR0aDo3NzJweCl7Ym9keXtiYWNrZ3JvdW5kOm5vbmU7bWFyZ2luLXRvcDowO21heC13aWR0aDpub25lO3BhZGRpbmctcmlnaHQ6MH19I2xvZ297YmFja2dyb3VuZDp1cmwoLy93d3cuZ29vZ2xlLmNvbS9pbWFnZXMvbG9nb3MvZXJyb3JwYWdlL2Vycm9yX2xvZ28tMTUweDU0LnBuZykgbm8tcmVwZWF0O21hcmdpbi1sZWZ0Oi01cHh9QG1lZGlhIG9ubHkgc2NyZWVuIGFuZCAobWluLXJlc29sdXRpb246MTkyZHBpKXsjbG9nb3tiYWNrZ3JvdW5kOnVybCgvL3d3dy5nb29nbGUuY29tL2ltYWdlcy9sb2dvcy9lcnJvcnBhZ2UvZXJyb3JfbG9nby0xNTB4NTQtMngucG5nKSBuby1yZXBlYXQgMCUgMCUvMTAwJSAxMDAlOy1tb3otYm9yZGVyLWltYWdlOnVybCgvL3d3dy5nb29nbGUuY29tL2ltYWdlcy9sb2dvcy9lcnJvcnBhZ2UvZXJyb3JfbG9nby0xNTB4NTQtMngucG5nKSAwfX1AbWVkaWEgb25seSBzY3JlZW4gYW5kICgtd2Via2l0LW1pbi1kZXZpY2UtcGl4ZWwtcmF0aW86Mil7I2xvZ297YmFja2dyb3VuZDp1cmwoLy93d3cuZ29vZ2xlLmNvbS9pbWFnZXMvbG9nb3MvZXJyb3JwYWdlL2Vycm9yX2xvZ28tMTUweDU0LTJ4LnBuZykgbm8tcmVwZWF0Oy13ZWJraXQtYmFja2dyb3VuZC1zaXplOjEwMCUgMTAwJX19I2xvZ297ZGlzcGxheTppbmxpbmUtYmxvY2s7aGVpZ2h0OjU0cHg7d2lkdGg6MTUwcHh9CiAgPC9zdHlsZT4KICA8YSBocmVmPS8vd3d3Lmdvb2dsZS5jb20vPjxzcGFuIGlkPWxvZ28gYXJpYS1sYWJlbD1Hb29nbGU+PC9zcGFuPjwvYT4KICA8cD48Yj40MDQuPC9iPiA8aW5zPlRoYXTigJlzIGFuIGVycm9yLjwvaW5zPgogIDxwPiAgPGlucz5UaGF04oCZcyBhbGwgd2Uga25vdy48L2lucz4K",
              "ok": false,
              "headers": [
                [
                  "content-length",
                  "1449"
                ],
                [
                  "content-type",
                  "text/html; charset=utf-8"
                ]
              ],
              "status": 404,
              "status_text": ""
            }
          },
          "base_uri": "https://localhost:8080/",
          "height": 421
        },
        "outputId": "1dd1078f-b18c-4bcb-8f27-3b215abf3bdf"
      },
      "execution_count": 8,
      "outputs": [
        {
          "output_type": "execute_result",
          "data": {
            "text/plain": [
              "<IPython.core.display.HTML object>"
            ],
            "text/html": [
              "<!DOCTYPE html>\n",
              "<html lang=\"en\">\n",
              "<head>\n",
              "    <meta charset=\"UTF-8\">\n",
              "    <title>PyVista</title>\n",
              "</head>\n",
              "<body>\n",
              "\n",
              "\n",
              "<!-- Load require.js. Delete this if your page already loads require.js -->\n",
              "<script src=\"https://cdnjs.cloudflare.com/ajax/libs/require.js/2.3.4/require.min.js\" integrity=\"sha256-Ae2Vz/4ePdIu6ZyI/5ZGsYnb+m0JlOmKPjt6XZ9JJkA=\" crossorigin=\"anonymous\"></script>\n",
              "<script src=\"https://unpkg.com/@jupyter-widgets/html-manager@^0.20.1/dist/embed-amd.js\" crossorigin=\"anonymous\"></script>\n",
              "\n",
              "<script type=\"application/vnd.jupyter.widget-state+json\">\n",
              "{\n",
              "  \"version_major\": 2,\n",
              "  \"version_minor\": 0,\n",
              "  \"state\": {\n",
              "    \"6651efa65ea646ecaa59438f96e72dc7\": {\n",
              "      \"model_name\": \"RendererModel\",\n",
              "      \"model_module\": \"jupyter-threejs\",\n",
              "      \"model_module_version\": \"^2.1.0\",\n",
              "      \"state\": {\n",
              "        \"_alpha\": true,\n",
              "        \"_dom_classes\": [],\n",
              "        \"_height\": 400,\n",
              "        \"_width\": 800,\n",
              "        \"camera\": \"IPY_MODEL_83b9fd66729d4c9ba920e3725fc28e31\",\n",
              "        \"clearOpacity\": 0.0,\n",
              "        \"clippingPlanes\": [],\n",
              "        \"controls\": [\n",
              "          \"IPY_MODEL_f708c6140cc84285aea12620063ce067\"\n",
              "        ],\n",
              "        \"layout\": \"IPY_MODEL_91affa5179204227ac179a6ca05aa276\",\n",
              "        \"scene\": \"IPY_MODEL_8d2351cb51fd4a628afdc49f76769341\",\n",
              "        \"shadowMap\": \"IPY_MODEL_4da276ef3ff4402a8a365f4426abcc61\"\n",
              "      }\n",
              "    },\n",
              "    \"83b9fd66729d4c9ba920e3725fc28e31\": {\n",
              "      \"model_name\": \"PerspectiveCameraModel\",\n",
              "      \"model_module\": \"jupyter-threejs\",\n",
              "      \"model_module_version\": \"^2.1.0\",\n",
              "      \"state\": {\n",
              "        \"aspect\": 2.0,\n",
              "        \"children\": [\n",
              "          \"IPY_MODEL_1ed6179bf0294b08a97d746d79b456d5\",\n",
              "          \"IPY_MODEL_4fb9354033474634b8651bf89aa413a8\",\n",
              "          \"IPY_MODEL_330cb5e6736e457d982750c71b5a3694\",\n",
              "          \"IPY_MODEL_11264bb43ee94156abaa3de477ccf763\",\n",
              "          \"IPY_MODEL_163f3b2e516340de8ffc31c0f2d535ac\"\n",
              "        ],\n",
              "        \"far\": 7254366.793696121,\n",
              "        \"fov\": 30.0,\n",
              "        \"near\": 0.01,\n",
              "        \"position\": [\n",
              "          0.0,\n",
              "          0.0,\n",
              "          72.54366793696121\n",
              "        ]\n",
              "      }\n",
              "    },\n",
              "    \"1ed6179bf0294b08a97d746d79b456d5\": {\n",
              "      \"model_name\": \"DirectionalLightModel\",\n",
              "      \"model_module\": \"jupyter-threejs\",\n",
              "      \"model_module_version\": \"^2.1.0\",\n",
              "      \"state\": {\n",
              "        \"children\": [],\n",
              "        \"intensity\": 0.25,\n",
              "        \"position\": [\n",
              "          0.0,\n",
              "          0.0,\n",
              "          100000.0\n",
              "        ],\n",
              "        \"shadow\": \"uninitialized\",\n",
              "        \"target\": \"uninitialized\"\n",
              "      }\n",
              "    },\n",
              "    \"4fb9354033474634b8651bf89aa413a8\": {\n",
              "      \"model_name\": \"DirectionalLightModel\",\n",
              "      \"model_module\": \"jupyter-threejs\",\n",
              "      \"model_module_version\": \"^2.1.0\",\n",
              "      \"state\": {\n",
              "        \"children\": [],\n",
              "        \"color\": \"#fffcf4\",\n",
              "        \"intensity\": 0.75,\n",
              "        \"position\": [\n",
              "          11161.889704894966,\n",
              "          76604.4443118978,\n",
              "          63302.222155948904\n",
              "        ],\n",
              "        \"shadow\": \"uninitialized\",\n",
              "        \"target\": \"uninitialized\"\n",
              "      }\n",
              "    },\n",
              "    \"330cb5e6736e457d982750c71b5a3694\": {\n",
              "      \"model_name\": \"DirectionalLightModel\",\n",
              "      \"model_module\": \"jupyter-threejs\",\n",
              "      \"model_module_version\": \"^2.1.0\",\n",
              "      \"state\": {\n",
              "        \"children\": [],\n",
              "        \"color\": \"#f5f7ff\",\n",
              "        \"intensity\": 0.25,\n",
              "        \"position\": [\n",
              "          -4494.345552754778,\n",
              "          -96592.58262890684,\n",
              "          25488.700224417877\n",
              "        ],\n",
              "        \"shadow\": \"uninitialized\",\n",
              "        \"target\": \"uninitialized\"\n",
              "      }\n",
              "    },\n",
              "    \"11264bb43ee94156abaa3de477ccf763\": {\n",
              "      \"model_name\": \"DirectionalLightModel\",\n",
              "      \"model_module\": \"jupyter-threejs\",\n",
              "      \"model_module_version\": \"^2.1.0\",\n",
              "      \"state\": {\n",
              "        \"children\": [],\n",
              "        \"intensity\": 0.21428571428571427,\n",
              "        \"position\": [\n",
              "          93969.26207859084,\n",
              "          0.0,\n",
              "          -34202.01433256687\n",
              "        ],\n",
              "        \"shadow\": \"uninitialized\",\n",
              "        \"target\": \"uninitialized\"\n",
              "      }\n",
              "    },\n",
              "    \"163f3b2e516340de8ffc31c0f2d535ac\": {\n",
              "      \"model_name\": \"DirectionalLightModel\",\n",
              "      \"model_module\": \"jupyter-threejs\",\n",
              "      \"model_module_version\": \"^2.1.0\",\n",
              "      \"state\": {\n",
              "        \"children\": [],\n",
              "        \"intensity\": 0.21428571428571427,\n",
              "        \"position\": [\n",
              "          -93969.26207859084,\n",
              "          0.0,\n",
              "          -34202.01433256687\n",
              "        ],\n",
              "        \"shadow\": \"uninitialized\",\n",
              "        \"target\": \"uninitialized\"\n",
              "      }\n",
              "    },\n",
              "    \"f708c6140cc84285aea12620063ce067\": {\n",
              "      \"model_name\": \"OrbitControlsModel\",\n",
              "      \"model_module\": \"jupyter-threejs\",\n",
              "      \"model_module_version\": \"^2.1.0\",\n",
              "      \"state\": {\n",
              "        \"controlling\": \"IPY_MODEL_83b9fd66729d4c9ba920e3725fc28e31\",\n",
              "        \"maxAzimuthAngle\": 1e+20,\n",
              "        \"maxDistance\": 1e+20,\n",
              "        \"maxZoom\": 1e+20,\n",
              "        \"minAzimuthAngle\": -1e+20\n",
              "      }\n",
              "    },\n",
              "    \"91affa5179204227ac179a6ca05aa276\": {\n",
              "      \"model_name\": \"LayoutModel\",\n",
              "      \"model_module\": \"@jupyter-widgets/base\",\n",
              "      \"model_module_version\": \"1.2.0\",\n",
              "      \"state\": {}\n",
              "    },\n",
              "    \"8d2351cb51fd4a628afdc49f76769341\": {\n",
              "      \"model_name\": \"SceneModel\",\n",
              "      \"model_module\": \"jupyter-threejs\",\n",
              "      \"model_module_version\": \"^2.1.0\",\n",
              "      \"state\": {\n",
              "        \"background\": \"#4c4c4c\",\n",
              "        \"children\": [\n",
              "          \"IPY_MODEL_59145b58e43241ac9b69788817a253d8\",\n",
              "          \"IPY_MODEL_83b9fd66729d4c9ba920e3725fc28e31\"\n",
              "        ],\n",
              "        \"fog\": null,\n",
              "        \"overrideMaterial\": null\n",
              "      }\n",
              "    },\n",
              "    \"59145b58e43241ac9b69788817a253d8\": {\n",
              "      \"model_name\": \"LineSegmentsModel\",\n",
              "      \"model_module\": \"jupyter-threejs\",\n",
              "      \"model_module_version\": \"^2.1.0\",\n",
              "      \"state\": {\n",
              "        \"children\": [],\n",
              "        \"geometry\": \"IPY_MODEL_a6ca91e3bdcd4332aa0f2532d8833a7d\",\n",
              "        \"material\": \"IPY_MODEL_bfd3320584504ffe9f6c39c3eebe7d93\",\n",
              "        \"position\": [\n",
              "          -9.510659363075472,\n",
              "          -8.5,\n",
              "          -9.5\n",
              "        ]\n",
              "      }\n",
              "    },\n",
              "    \"a6ca91e3bdcd4332aa0f2532d8833a7d\": {\n",
              "      \"model_name\": \"BufferGeometryModel\",\n",
              "      \"model_module\": \"jupyter-threejs\",\n",
              "      \"model_module_version\": \"^2.1.0\",\n",
              "      \"state\": {\n",
              "        \"_ref_geometry\": null,\n",
              "        \"attributes\": {\n",
              "          \"position\": \"IPY_MODEL_6ed107006d394b5c97b03c9ef2cffd16\",\n",
              "          \"index\": \"IPY_MODEL_63ee8dd96e25450e93327b215b678942\"\n",
              "        },\n",
              "        \"index\": null,\n",
              "        \"morphAttributes\": {},\n",
              "        \"userData\": {}\n",
              "      }\n",
              "    },\n",
              "    \"6ed107006d394b5c97b03c9ef2cffd16\": {\n",
              "      \"model_name\": \"BufferAttributeModel\",\n",
              "      \"model_module\": \"jupyter-threejs\",\n",
              "      \"model_module_version\": \"^2.1.0\",\n",
              "      \"state\": {\n",
              "        \"array\": {\n",
              "          \"shape\": [\n",
              "            1270,\n",
              "            3\n",
              "          ],\n",
              "          \"dtype\": \"float32\"\n",
              "        }\n",
              "      },\n",
              "      \"buffers\": [\n",
              "        {\n",
              "          \"encoding\": \"base64\",\n",
              "          \"path\": [\n",
              "            \"array\",\n",
              "            \"buffer\"\n",
              "          ],\n",
              "          \"data\": \"AADApAAAcEFu2zYklbqhPQAAcEF6p5O8xPMPPQAAcEG+dZW9S7KBPQAAcEHk2049xPMPvQAAcEG+dZW9oPq2owAAcEFU46U9lbqhvQAAcEF6p5O8S7KBvQAAcEHk2049S7KBPSkeb0Hk2069IjFFuy/BbkEExqW9F5+hPTqxbkEjhpU8mRiMPSEUbkFDrDG9QvNHPavZbkGkYIQ9ugaTPY+GbUF6phk9uzaEvX4Mb0EPYki9+JqUvWLzbUHdchO9Q0dHvF+ObUHSAaS9rDBHvTrYbkHnqYQ9oPq2o2ZmbkFU46U9aEOhvYSwbkF6lps8ugaTvY+GbUF6phk9ohWbPU3LbEHVi+u8oPq2o83MbEFU46U939KRvTjMbEH+Kh69M+SVPQAAbEF5JQ49JKy3u9ItbEGGfaW9BZSSvdsCbEFxWhs9kOmDPbVpa0EXLUm9LOOLvSFba0FXVDK9oPq2ozMza0FU46U9Bb1OO/C8akEcw6W9zVuWPU2CakGoKAw91waTvXB5akELphk9TLaDvT8TakFGs0m9CDKOPfAdakEq3yq9oPq2o5qZaUFU46U9TRbqOz6TaUHYPaW9pyKdvafYaEGQsNQ85bGXPcvXaEGQRgY963BovY3qaEHIvWy99VKIPcoPaUG8Cz29oPq2owAAaEFU46U9qEY6u2JOaEEsyaW9ztGFvWjGZ0GwEkS9M+SVvTMzZ0F5JQ49dA2SPRbTZ0E0Uh29M+SVPTMzZ0F5JQ49SvqVPL4TZ0FdmKG9oPq2o2ZmZkFU46U9M0CDvcx/ZkFM5kq9eNyVPcTMZkEORg69a6aUveKYZUGuRBM9ePuYPXqfZUHjTAA9CloJPTC2ZUE8AZe9oPq2o83MZEFU46U9242BvYgKZUEmN0+9s8OTvVAHZEGKyhY9iC+QPUtsZEGcECS9m3tdO0UXZEFZvqW9rwGXPWDnY0EPWAk91x95vaR+Y0EDHlu9oPq2ozMzY0FU46U95oVaPSz0YkFPpXm96oM7vBToYkFEOaS9ozeTvTN4YkGx6hg9M+SVPWZmYkF5JQ49tulyvR7zYUHS+2G9g8VAPZ2fYUFtA4e9oPq2o5qZYUFU46U9k4iivdD6YEFUxIQ827WWPcPGYEGqowo9jNOuvP3cYEHaBqC9oPq2owAAYEFU46U9rTE3PdXXX0GVToq9SKOHvTDoX0GVAj+9M+SVvTMzX0F5JQ49EFCVPUUvX0HXjxA9oPq2o2ZmXkFU46U9EGZ2vCPdXkHxAKO9WraUPXZzXkFFBBO9yYmOvb9mXkG6uSm9FGCTvWCqXUGTThg9M+SVPZqZXUF5JQ49i+IJuuutXUFv4qW9MCaOvcjyXEGOBiu9oPq2o83MXEFU46U9Q2SZPUtXXUEPqfy8+PKUvczxW0EEDhI9dFhfPQ9iXEE9V3W9V9mZvFFCXEEXXqG9AVqZPaUNXEGiDP08UXWHvXM0W0HhhD+9oPq2ozMzW0FU46U9Lak4PZP/WkGF0Ym9EFCVPVVqWkHXjxA9cweWvT9SWkFqkA09IopgvBwMWkEPf6O91zeNvd+ZWUFkFS69VKyVPbGqWUEzEA+9oPq2o5qZWUFU46U906STvdLbWEFSQxc9M+SVPc3MWEF5JQ49oo7OOuveWEFK26W9oPq2owAAWEFU46U9DNyMveYhWEHfPS+965+SPd10WEF+LRu9nc6TvUE3V0G7nxY99yuZPa85V0FCyf48R84VPYRTV0HLA5S9EK2CvQKNVkHNYEy9oPq2o2ZmVkFU46U92fGRPZlCVkGMuB29+WSxOn2dVUFm3aW93BCUvZifVUGYmhU9M+SVPZqZVUF5JQ49+KCJvdTOVEHNOTm9oPq2o83MVEFU46U9wwyQPVX9VEGaiiS9LsmTvZUBVEENtRY9uAuqO1giVEEWjKW9M+SVPQAAVEF5JQ49+MCGvYlRU0Eqf0G9oPq2ozMzU0FU46U9NEOQPR+GU0FhyyO9eO0ZPPKaUkG0xKS9EFCVPXhiUkHXjxA96/+TvRZzUkGW3RU9mmyQPeXoUUEzOSO91aqEvaWcUUEyLke9oPq2o5qZUUFU46U9/udnPEEXUUHoVaO9M+SVPc3MUEF5JQ495+SXveK5UEEhXwU9/4qPPWUfUEHPTSa9kkqEvSwOUEGqLUi9oPq2owAAUEFU46U9Jig3PDRcT0HwTKS9M+SVPTMzT0F5JQ49n+CWvfExT0Eb6Qk9W5SRPbF5TkGvEB+9J3SFvWd2TkFfEUW9oPq2o2ZmTkFU46U9dHYxPPevTUHtZaS9EFCVPYidTUHXjxA9m0iXvfqhTUF2Hgg9e2iTPc3qTEEILhi9P0qGvR7bTEE4yEK9oPq2o83MTEFU46U9RFQ2PAUMTEGeUKS9M+SVPQAATEF5JQ49Sb2WvSECTEFTgwo9I4WUPY1JS0HCyhO9XGeFvTMzS0EBNEW9oPq2ozMzS0FU46U9kJpMPEVySkGV56O9EFCVPXhiSkHXjxA9SDeVvRlsSkEM9hA9RlSUPZKxSUGHjhS9XZ2DvdKlSUFW9Em9oPq2o5qZSUFU46U90biPPHXLSEE586G9M+SVPc3MSEF5JQ494NSUvffTSEGHiBI9kLKUPVQ2SEGZExO96emBvU4YSEEcUE69oPq2owAASEFU46U94cKDPP4+R0GrlaK9M+SVPTMzR0F5JQ49AMSXvf48R0Gi9AU9TrSTPY+7RkHVBhe9ouKBvY5lRkFwYk69oPq2o2ZmRkFU46U9hdY0PbBVRUF4FIu9hDOWPa2kRUEC1Qw9M+SVvZqZRUF5JQ49Bc5evT98REH71HW9oPq2o83MREFU46U9M+SVPQAAREF5JQ49KhRLPc6uQ0F2LoO9EFCVvRL8Q0HXjxA9M7yKvR76QkHx5DW9PnIxvH0JQ0H/ZaS9oPq2ozMzQ0FU46U9jRygPS9cQkF9lK08tt2UvbVlQkGaZBI9OtM1PVAKQkEBwoq9oPq2o5qZQUFU46U9l7+LvaXHQUHJwzK9AnCWPb3IQEHP0Qs95bCUvR3JQEFZGhM9O974vIO5QEFVx5m9kBJ4PbyoP0GxTly9oPq2owAAQEFU46U9ZJCVvfzKP0HihA+9RMaVPUcvP0Fzow49oMOUvXEqP0GDzhI9rSWbvH4FP0EzSqG9VY+DPZAxPkHlGEq9idGTvfFOPkFClBa9oPq2o2ZmPkFU46U9hziVPaSaPUHs8BA96EaUva+UPUHgwxQ9vcNGvEzAPUFQBKS9oPq2o83MPEFU46U9UW+JPRa/PEELzTm9QlyRvdzZPEFi3R+9GWuTveoFPEHhIxg9M+SVPQAAPEF5JQ49usgUu1cSPEGl0qW9oPq2ozMzO0FU46U9UN+Ivb8nO0FadDu9LdQnPZ7YOkE8GY+9zO2SvXhlOkHABRo90XGhPXVtOkHYjJg8oPq2o5qZOUFU46U9wI6AvQKKOUHqrlG9KgIoPaUyOUG+C4+91zaVvVPNOEHd9xA9WGyVPeTIOEHGGhA9bnCAvQAAOEEw+VG9oPq2owAAOEFU46U9bQmaPYkrOEHaTPa87m8PPRFnN0FqlZW93bGVvX00N0EF+Q49RLuZPTs2N0FkVfk8+OeAvYNqNkFe01C9oPq2o2ZmNkFU46U9uh9wPaTmNUHs8WS9jqqXuyPVNUHxnaW9X32YPZF2NUHznwI9M+SVvZqZNUF5JQ49WfGCvcrpNEGwsUu9oPq2o83MNEFU46U9LdQnPThyNEE8GY+9AoaTvYH+M0Fnuxc9GCiWPQ76M0G0BQ09KpmFvfAvM0H2rES9oPq2ozMzM0FU46U94WKZPS5vM0GEtvy8HOAXPSKyMkGRfJO9tYeVvZlmMkEOqQ89/OmXPTF/MkH5RwU9ejdFvWGKMUETZoW9oPq2o5qZMUFU46U93V+MPTM2MUG2yjC9xWSWvTHLMEEkAgw9XnORPc3MMEE5iR89hzoGOz1YMEHA1aW9eRaGvZzdL0GwVkO9oPq2owAAMEFU46U9yjmIPbyuL0FBVD29zPKVvUAxL0HT5w09WGyVPUsvL0HGGhA9tjN8O+4IL0Ffs6W9fn2BvexbLkEMYE+9oPq2o2ZmLkFU46U9nteFPTZPLkHRAkS9IgKWvRGcLUHupg09z1/4OjiKLUG116W92DmVPZ6aLUF96xA9oPq2o83MLEFU46U9Mv2BvbHKLEGAH069DV2JPa6+LEEKAzq9M+SVvQAALEF5JQ49M+SVPQAALEF5JQ49tPuuutA0LEGP3aW9oPq2ozMzK0FU46U9W0mBvXA4K0EC4k+9LdQnPZ7YKkE8GY+9AoaTvehkKkFnuxc9hn6WPSV2KkFFkws9KpmFvVaWKUH2rES97tCYPcTlKUEMFwG9HOAXPYkYKUGRfJO9oPq2o5qZKUFU46U9WGyVvbXQKEHGGhA9mAeYPZflKEGnwAQ9EjUuvbPXJ0ESLo29oPq2owAAKEFU46U9dOePPY3cJ0H9DCW9XnORPTMzJ0E5iR89a4WdvXQMJ0HPEtA8QeOBPSNUJkHgYE69rfaIvYZ4JkEMMDu9oPq2o2ZmJkFU46U9WGyVPbGVJUHGGhA9O6aZvVpaJUGIJPo8JfcSvV9JJUGYuZS9XN2DPQa+JEEWTUm9oPq2o83MJEFU46U9zJ6Zva2DJEGGbfq8hb6WvR7ZI0H1fQo9XmiVPTsBJEFDKxA9/LYovbiVI0F/1o69oPq2ozMzI0FU46U9LFSCPYAqI0FZQ029M+SVPWZmIkF5JQ49M+SVvWZmIkF5JQ49p1agO8ydIkHFlaW9z1xHvZTSIUFTmYS9oPq2o5qZIUFU46U9JT9/PU2WIUEz9FO9YVeQvQLKIEE5hCM9UCyXvTDNIEH5mwi9M+SVPc3MIEF5JQ49EtsqOxHgIEFTzaW9asiAPXn8H0ExIVG9oPq2owAAIEFU46U9IO9GvSDIH0F7woS9eRoVPOz7HkFx1qS9WGyVvRw3H0HGGhA9WGyVPUsvH0HGGhA9XN2DPaBXHkEWTUm9oPq2o2ZmHkFU46U9LdQnvdELHkE8GY+9lsKUvQ6gHUG80hI9hQmVPQ2UHUHgsRE9DV2JPa6+HEEKAzq9oPq2o83MHEFU46U96IeevRvPHEFHa8O8b0f9vMtgHEHwU5m91a+VPTD6G0GKAQ89hReUvScKHEE4gBU9zOlXPYYgG0EC6Hu9ezWWvUeaG0GfzAy9oPq2ozMzG0FU46U9My8tveKjGkGHfo29DM+VPZRgGkGOfg49Tp+XvX1uGkF0mgY9VqR9PUmKGUEl31W9oPq2o5qZGUFU46U9+FCVvYx8GUEajBC9DDCZvPKxGEEoaKG9WGyVPeTIGEHGGhA9xHuUvSrJGEFn8BM9XN2DPTnxF0EWTUm9oPq2owAAGEFU46U9x3GUvXXaF0F5GBS9z8uVPWw1F0EqjA49LdQnvfzAFkE8GY+9EFCVvUUvF0HXjxA9b+1iPfBXFkEPCHK9oPq2o2ZmFkFU46U97zuWPTSaFUETsQw9M+SVvZqZFUF5JQ490RI6vShBFUG1V4m9oPq2o83MFEFU46U9JT9/PYDJFEEz9FO9UCyXvWMAFEH5mwi9YVeQvTX9E0E5hCM9M+SVPQAAFEF5JQ49TRQIO3nHE0Ff1aW9oPq2ozMzE0FU46U9asiAPawvE0ExIVG9IO9GvVP7EkF7woS9WGyVvU9qEkHGGhA9WGyVPX5iEkHGGhA9eRoVPCAvEkFx1qS9XN2DPdOKEUEWTUm9oPq2o5qZEUFU46U9LdQnvQQ/EUE8GY+9AnCWvdzQEEHP0Qs9hQmVPUDHEEHgsRE9DbW2PFSrEEG/eZ+9oPq2owAAEEFU46U9DV2JPeHxD0EKAzq9sBCavenkD0EfBPa8NHKWvE2WD0FlkaG9WGyVPUsvD0HGGhA9LHyVvc02D0EJ2Q89oPq2o2ZmDkFU46U9gOqCPZqMDkFKw0u9bnCAvWZmDkEw+VG9/Ag5uz6IDUGFyaW9XnORPZqZDUE5iR89IgKWvRGcDUHupg09oPq2o83MDEFU46U98KVHPWKTDEHOfYS93ImBvQTJDEElQU+9M+SVPQAADEF5JQ49M+SVvQAADEF5JQ490n6qu5i4C0Gfi6W9oPq2ozMzC0FU46U9LdQnPZ7YCkE8GY+9bnCAvTMzC0Ew+VG9uOCWPQJ3CkGv6Ak9SHeUvTdmCkFmAhQ9oPq2o5qZCUFU46U9o+x/vYGMCUGWIlO9BYyYPaHrCUF3WwK9HOAXPYkYCUGRfJO9M+SVvc3MCEF5JQ49twiZPZjPCEGhDQA9koyDvbfxB0EVIEq9oPq2owAACEFU46U9516rPJOnB0GdQqC9g3+aPYfFB0EgovG8M+SVPTMzB0F5JQ49XnORvTMzB0E5iR89mbRKvcAoBkFkU4O9oPq2o2ZmBkFU46U9asiAPd9iBkExIVG9QXiVvbmWBUFV6Q897sZPPAhvBUGc16O9tH8vvdahBEGNx4y9WGyVPbGVBUHGGhA9Vjt7PfSzBEGesli9oPq2o83MBEFU46U9GCiWvfIFBEG0BQ09+CiVPb/+A0HrMBE9oPq2ozMzA0FU46U9+W6EPVo4A0FKzUe9fUqzuzZEA0FUgqW9JUKPvbVRA0FXSCe9WGyVPU9qAkHGGhA9xd+YvX5fAkGv0AA9sj13PfKaAUF7PV29oPq2o5qZAUFU46U9HOAXvasaAkGRfJO9ylKUPbjRAEF3lBQ9b5iZvYtRAUH0q/q8jxqXvU29AEF26gg9oPq2owAAAEFU46U9LdQnvZVaAEE8GY+9/euCPXjG/0B2v0u9zrqWvXF8/kAfjgo9M+SVPWZm/kB5JQ49/llwvTfN/UC/tGS9DJiWOyfv/UDrnqW9oPq2o83M/EBU46U9yeeAPcbE/EDT01C9K7qZvZIt+0A3YPk8M+SVPTMz+0B5JQ49cJoOveXN+kBqyJW9oPq2o5qZ+UBU46U9bnCAPZqZ+UAw+VG9jfOZvYwu+UBOJ/e8WDSXvazN90BoeAg987wlvalJ90DctI+9DbGVPWcC+EBv/A49oPq2o2Zm9kBU46U94iuBPXZu9kA+K1C9cYaVPZfS9EBRrg89hTWYvVnG9EB97QM9LdQnvV7o80A8GY+9oPq2ozMz80BU46U9bnCAPTMz80Aw+VG9M+SVvZqZ8UB5JQ49M+SVPZqZ8UB5JQ49ZaOqO5Yo8kB6i6W9dFVKvSt78EAOeIO9oPq2owAA8EBU46U9z5aBPacJ8EC/IE+9XnORvWZm7kA5iR89M+SVPWZm7kB5JQ49Q2HvOSKZ7kCn4qW9XN2DvVrq7EAWTUm9bnCAPc3M7EAw+VG9oPq2o83M7EBU46U9I2dlu/yG60Cou6W9o+yRvYMx60DTyx09M+SVPTMz60B5JQ49wVKNva6F6UDxvS29ndySPTep6kA9Rxq9oPq2o5qZ6UBU46U9+f8cPZVa6ECRI5K9XnORvQAA6EA5iR89cs+YPe8V6EAVHgE9U6aDvUc15kD43Em9oPq2o2Zm5kBU46U9sdyVPf705UAdRQ693/C/PBXH5EDXy569C7aUvQbP5ECFBRM9M+SVPc3M5EB5JQ49WYSDvQYn40B8NUq9oPq2ozMz40BU46U9oAeXPa8P40DsPQm9jn2SvTic4UAbrxs9vB6RPDCV4UBE36G9M+SVPZqZ4UB5JQ49IYaEvQoP4EDWj0e9oPq2owAA4EBU46U94IiVPSED4EAypA+9WGyVvTdu3kDGGhA9ypZpPEZj3kBQTKO9M+SVPWZm3kB5JQ49oPq2o83M3EBU46U9DV2JvQvp3EAKAzq9MdSRPV823UAdJh69hQmVvU0+20DgsRE9M+SVPTMz20B5JQ49v7cku3w73EDhzqW9oPq2o5qZ2UBU46U9XN2DvSe32UAWTUm9o0syPTS92UDx5Yu9IQeXPUsH2EAYQAk9Ux2VvQUH2EC7YBE9QWOPvCkE2ED296G9DbBAPdzt1kAVC4e9oPq2o2Zm1kBU46U9j9yDvSZR1kAtT0m9M+SVPc3M1EB5JQ49ug+VvTvS1EB4mBE9GcWgORmj1EAG46W9Gbp/Pcgo00DKX1O9PnGIvQEe00BEtDy9oPq2ozMz00BU46U9vlKgu/8z0kDJlaW9WGyVPcmR0UDGGhA9WGyVvWqh0UDGGhA98IONPWrYz0CDHS29oPq2owAA0EBU46U9USc8vTDez0DfoYi9XnORPWZmzkA5iR895DeXvYJUzkCuaAg9bR3qOgZqzUAA2aW92IuIPegezEA8Zzy9K42JvbKezECZdDm9oPq2o83MzEBU46U9WGyVPWIry0DGGhA9M+SVvTMzy0B5JQ49eUGLvDHTykCbMaK9ifWGPSOSyUBo7EC9oPq2o5qZyUBU46U9xMqUvcN8yUCQsRK9XnORPQAAyEA5iR890nWYvV3nx0AywwI9voobvQGWx0A2h5K9oPq2o2ZmxkBU46U9CX2LPVR5xkA/kzO9SMiTvR5bxUCWuBa9yryUvbTExEA16hI9WGyVPfzExEDGGhA9ZJFlOzd4xECZu6W9oPq2ozMzw0BU46U9XN2DPaYVw0AWTUm9bnCAvTMzw0Aw+VG9M+SVvZqZwUB5JQ49XnORPZqZwUA5iR89kETvuaRmwUCn4qW9oPq2owAAwEBU46U9z5aBvVn2v0C/IE+9dFVKPdWEv0AOeIO9M+SVPWZmvkB5JQ49M+SVvWZmvkB5JQ49ZaOqu2rXvUB6i6W9oPq2o83MvEBU46U9LdQnPaIXvEA8GY+9bnCAvc3MvEAw+VG9rIaVPYA0u0BdrQ89A4aTvSwsu0Bluxc9oPq2o5qZuUBU46U9KpmFvROTuUD2rES9sM6XPVJyukAlxAW9HOAXPXiXuECRfJO9WGyVvS/4t0DGGhA9M+SVPQAAuEB5JQ4946gnvax3tkDrJY+9oPq2o2ZmtkBU46U9JLqXPWyGtkBGIQa9WKOWPVkOtUAK9Ao91VaWvcrLtED0PQw97Ok3PUfWs0BmEYq9xd17vZ4ds0C99Ve9oPq2ozMzs0BU46U9J76XPZj6sUAdDwY9WGyVvWqhsUDGGhA9j8gxPVf9sECfD4y9oPq2owAAsEBU46U9tyiDvRYjsEAAI0u9u1WhPSlPrkBqZZo8XnORvWZmrkA5iR89npYqPTyvrUDNR469oPq2o83MrEBU46U9dOePvbITrUD9DCW9WGyVPWIrq0DGGhA9mAeYvZ8Bq0CnwAQ9HOAXvbybqkCRfJO9f/2APZQhqUAsnlC9oPq2o5qZqUBU46U9OmqVPdwFqECNIxA93MqYvdYBqUDFMwG9JpqWvTnlp0DkGws9LdQnvZEbp0A8GY+9jUeDPeMwpkBF00q9oPq2o2ZmpkBU46U9M+SVPc3MpEB5JQ49wCWWvV7ZpECtDw09InAIPCVipEBNAqW9XkWAvZSho0BgYlK9oPq2ozMzo0BU46U9mOeBPVIuo0DzVU69XnORvZqZoUA5iR89vwGWPdSUoUCRqA09QV5kvBjAoUDXaaO9oPq2owAAoEBU46U9jYmWvUQXoUCrYwu9UZJ5PeqGoECXm1q94J2WvdBznkC+Cws9ESqWPYFankBM/Qw9PlYCvYbZnkAjjZi9kFgpPeD5m0Cqpo69oPq2o83MnEBU46U9oQaTvZ9onEDaphm9XnORvTMzm0A5iR899P2VPZkkm0CjuA09oPq2o5qZmUBU46U9BmaFvcF6mUCeN0W9xMqUPXC2mUCQsRK9meAiPJk3mEBGoqS9WGyVvdEHmEDGGhA9M+SVPQAAmEB5JQ49DV2JvaWClkAKAzq9CSKSPfy2lkCsBR29oPq2o2ZmlkBU46U9QtJTPJMIlUDkwqO9hQmVvefXlEDgsRE9M+SVPc3MlEB5JQ49m+qEvSotk0DYg0a9BFeSPc+Ok0DTPxy9oPq2ozMzk0BU46U9XY+bPP3SkUDWQ6G9WGyVvWqhkUDGGhA9M+SVPZqZkUB5JQ49j9yDvcDqj0AtT0m9f+yRPYaUkEBazB29oPq2owAAkEBU46U9pqR3O4icj0AXtaW9nX2SvctnjkDjrhs9ESqWPYFajkBM/Qw9JKF2vW3MjEDy6129gIw1PWQpjUAm2Yq9oPq2o83MjEBU46U9mu6UvY0vi0DPHxI9bjSXPcQ2i0AHeAg9DbBAPQ8hikAVC4e9j9yDvVmEiUAtT0m9oPq2o5qZiUBU46U9TPSUvTYGiECXCBI9M+SVPQAAiEB5JQ49iqAZu7HFh0CK0aW9pseOPWUthkA66Si9oPq2o2ZmhkBU46U9WsWIveYwhkAXwDu9M+SVPc3MhEB5JQ493Z6UvdLUhEAqYxM9qq0HPDiWhEDOBKW9oPq2ozMzg0BU46U9J9eQPZpng0DQvSG9DV2JvXJPg0AKAzq9M+SVPZqZgUB5JQ49hQmVvbOkgUDgsRE9hzBbPB/hgUAXnKO9oPq2owAAgEBU46U9sqaSPSJfgEDfExu9XN2DvY0dgEAWTUm9crSVvfzmfEA37g49M+SVPc3MfEB5JQ49W1eNPB80fUC7FKK9iAqCvS2DekDY/U291J6TPQerekC5Whe9oPq2o5qZeUBU46U97/66PL7YdkAiKp+9qhKVvYiPdkBwjBE9WGyVPcVWdkDGGhA9nhuVvTFCdUC+ZxG9Y0aQPfS1ckAswCO9oPq2ozMzc0BU46U9MfUZvQ7qcEAi8pK9ZTyYvWFJcEC+zQM9XnORPQAAcEA5iR89y4iDPeKIbEDpKUq9oPq2o83MbEBU46U9JEeXvRcjbUD8JAi9goOevE8NakDLFaG9teOUvSCxaUA1TBI9veiVPbKjaUBQEg49vIt6PQthZkCOfVm96tmVvVQLZ0DRUA69oPq2o2ZmZkBU46U9kHjEvMyoY0AZc569M+SVvTMzY0B5JQ49WdyZPVY1Y0AQDvg860eQvQPaX0DGuiO9dL99Pd9RYED3vlW9oPq2owAAYEBU46U97SIUu9GhXEDK0qW9XnORvc3MXEA5iR89EFCVPRS9XEDXjxA9pCiEvaStWEA5h0i9Ct2APaiZWUBZ7lC9oPq2o5qZWUBU46U9gCKoPITiVUBreaC9M+SVPWZmVkB5JQ49M+SVvWZmVkB5JQ49pl6cPTOtU0DCiN28oPq2ozMzU0BU46U9J5l6vbt4UkAYblm9ESqWPTToT0BM/Qw9SQkwPZupTkCVnIy9XnORvQAAUEA5iR89oPq2o83MTEBU46U9A6RyvUyYTECnRmK9lNOZPU12SUAMZfg8GFCZvU6OSUCjbP080rlSPWfFSEB3IYC9oPq2o2ZmRkBU46U9qrh2vcIBRkDM0V29xD+UPeJNREBU4BS9M+SVPTMzQ0B5JQ49lF+WvcAaQ0BvGAw9/XGfPN/zQkAUB6G9oPq2owAAQEBU46U99geAvV3YP0DK91K9pd6WPb+4P0DA8Qm9t0WWvZC9PEBGhww9ESqWPQG1PEBM/Qw9u4CVPOCXPEBnn6G9oPq2o5qZOUBU46U9Y9mBvTR/OUCzeU69ZE+WPVJ+OUDZXQy9EFCVPa1WNkDXjxA9JOSVvTtfNkC4JQ49wa99PBQmNkAz1KK9oPq2ozMzM0BU46U9OnCWPcwdM0Df0Au9zbaCvcUhM0DkR0y9EFCVvbkPMEDXjxA9M+SVPQAAMEB5JQ493ut4PIIAMECb8aK9oPq2o83MLEBU46U9mrGCvcC+LEAxVUy9EuOVPXlGLUA6Kg69uWiVvaGkKUDJKRA92wyZPcRsKUCp8/88v80hPRg6KEC00pC9oPq2o2ZmJkBU46U9t/KEvYFmJkAdbka9ASyXPbAfJEBWnQi9M+SVPTMzI0B5JQ494KIBPXnCIUBUs5i98z2VvdVEI0CS2hA9oPq2owAAIEBU46U9EpGBvUEYIEAcL0+9IKmePdn2H0ARusG8UWyVvejVHEDhGhA9ESqWPQG1HEBM/Qw9NE0tPZW5GkBYdY29oPq2o5qZGUBU46U9sGCCvTPgGUCMI029M+SVvWZmFkB5JQ49dkSWPSlmFkChjAw9rdWhvHw6FUDs4KC9rwRaPb1zE0AvFnq9oPq2ozMzE0BU46U9aqSQvdv3FEAKcyK9M+SVPQAAEEB5JQ49FIKjvWROEEAr/V88N3UEvdMnEUAKGJi91wpnPRpHDkBKG269oPq2o83MDEBU46U9k19XvYNHC0A5Xny9M+SVvZqZCUB5JQ49r6qZPRaJCUC9+Pk8NhDzPNA3CECbW5q9oPq2o2ZmBkBU46U9/i1XvV8gBUCCiHy9iTyYPYgwBUAYzQO9EFCVPXojA0DXjxA9M+SVvTMzA0B5JQ49DN39PLwNAkB4RJm9oPq2owAAAEBU46U9BzBHvUcU/T8lqoS9NSKePaaNAEC9gMi81BKYvUax+D8ljQQ9l7mYPcNB+T9XhQE9Z4EXPdOQ+D/plJO9oPq2ozMz8z9U46U93ox4vV0n8T+rxFu9bZmWvayW6z8GHws9hgeSPVRy7z83aB29Pw+WPZ6X7D9Vbw09K1JkPFaC6j8baqO9oPq2o2Zm5j9U46U99GOEvftN5T9+6ke9ABaQPZmu5D89aiS9rI+VPXS33z/fhw89M5+UvdDs3z/OYRM9IT/OO8/T3j/sYqW9oPq2o5qZ2T9U46U9YbuMPTSD2D+8pi+9keeLvfUv2T+MRjK9wLuTvdgo0z+x6RY9M+SVPTMz0z95JQ492vwZu1UM0z910aW9oPq2o83MzD9U46U9SNOLvV8TzT8nhjK9FFuLPZLgzT+U/DO9QpuTvddzxj+oaBc92OaJPUi4yD90aTg9atS0O5BLyD+ogKW9oPq2owAAwD9U46U9HRyHvbsAwT9FgEC9FKafPfcZwz9wRbS8CiqVPRc1uT+HLBE9za0HPVt6uj/mYZe9jSyUvexLuj/ELBU9oPq2ozMzsz9U46U9XOqDvQ8etj8BK0m9Ws+WPagHsT+WNAq9EFCVPVutrD/XjxA91Ynju+Yhsj/9RqW9V46WvYZJrj/7Tgs9oPq2o2Zmpj9U46U9J6d2vdHaqD9E5V29olQHPXZuqj/ZdZe95yuSPac2pD/s4By977yYvQlRoD+TdQE9M+SVPQAAoD95JQ49t1FCO4zHnj/exqW92OCIvQKomD/jbzu9oPq2o5qZmT9U46U9MeGOPaMtmD/Bkii9M+SVvTMzkz95JQ49MOuVPYP2kj/3Bw49uVKPOo8Mkz9136W9oPq2o83MjD9U46U9Hx6JvWkZjT9kvDq9qRCLPd3diz8+4jS9d1KUvdj9hj/DlRQ9LaKVPcJXhj+oOg89uDVLO99Ehz8zxKW9oPq2owAAgD9U46U9fCmIvV8pgT8lgz29t7WHPSAmfz8szj69FGCTvZU/dD+TThg9M+SVPTMzcz95JQ496/EFvK9pfj94CqW9oPq2o2ZmZj9U46U9MReVvZaDbz/heRG9RQw+PDiCbD+fLaS9LqOOPb3LXz9MZCm9sy6ZvW5WWj/xrv48EFCVPX3YWT/XjxA9oPq2o83MTD9U46U9ehSEvQzUXD9XvEi9F9vLO/N3VT/jZaW95COJvXQnSj9xqzq9wPiVvdy+Pj+ozg09GT+MPdUiSz+bMjG9M+SVPQAAQD95JQ49rewZOEqlPz9T46W9oPq2ozMzMz9U46U9mJGPvco5Mz8ENya94gqPPdpFNT8XBSi9ozeTvTiDJz+x6hg9fgSYPRm8JT/azgQ9ANaDvMkrKz+zlKK9oPq2o5qZGT9U46U9MOxmPchPIj8EOW6994GOvULHHT/70ym9tQOXPTT9ET8nTwm9VhaVPZp1DD9jfRE9y7kyvG2dFD90YKS9JUuWva6uDz8LcAw9oPq2owAAAD9U46U98kqCvT5DBz/FWk29uR+FPRz//z5E9UW9qKFKuwFAAT9hxKW9M+SVPWZm5j55JQ49AYqevQ+b5T4HUMM8oPq2o83MzD5U46U9Qu48vVvW5T4sXYi9CFuRPbhk3D7a4R+9H4CDPOFY0z4MmaK96Ad/vTohvD6nNlS9M+SVvTMzsz55JQ49ZrCYPUCosz6ssAE9oPq2o5qZmT5U46U98tGMPaP0tz5WXi+9e0A/OzhGoz7Cx6W9Zp6EPYUtkj5PT0e9M+SVPQAAgD55JQ49yHuLvQbckj4ilzO9kOGTvQ4+gj5EVRY9oPq2o83MTD5U46U9BD3Lu0iMdD6lZqW9hYmbPYhCTD6auOa839KRvQzyTD7+Kh69ugaTvSNcHj56phk9ugaTPSNcHj56phk9nqQlvCfyHz48l6S9oPq2o83MzD1U46U9c2aIvTNV2z110zy9uUqMPWYf+T3IDTG9FluhvVVTnj28C5o8xrhGvViekj3T1oQ9F5+hPShjpz0jhpU8QvNHPU8qkz2kYIQ9NYyUuklUjD0s36W9Kb6Cva7gUz0LNUy9S7KBPc/WYT3k2069oPq2owAAAABU46U9xPMPPQAAAAC+dZW9xPMPvQAAAAC+dZW9lbqhPQAAAAB6p5O8S7KBPQAAAADk2049lbqhvQAAAAB6p5O8S7KBvQAAAADk2049AADApAAAAABu2zYkZU4yvYsgPMAR5Yu9oPq2owAAQMBU46W9S7KBvQAAQMDk2069XAyhvT+qOsCPHJ+8oPq2o5qZOcBU46W9iJBsvUwQOcD3nmi9AADApAAAQMBu2zaklbqhvQAAQMB6p5M8WPJHPaxmO8D9YIS9S7KBPQAAQMDk2069lbqhPQAAQMB6p5M8xPMPPQAAQMC+dZU9xPMPvQAAQMC+dZU9iz2BPbqTO8Bg/0895KyJu5oqPMApqqU9352hPd7EOsA0m5W87futPMSaOMCJFaA9fz+LPYQ0N8DkUTQ9S7KBvRxXPMDk2049nLKAvee6N8DbVlE9CWGcvRZhNcDJbd28ugaTPT4aNsB6phm9oPq2ozMzM8BU46W9ffSGu/oINcBmrKU9YqOMPT+FMsCO8y89QYqJvcOAMsA9fTk9M+SVPQAAMMB5JQ69GgSWvfmUL8CYng290k2Ju1SCL8B4qqU9oPq2o83MLMBU46W9ScaEPQX1LMD35EY99L+QvcTOLMDPECI9M+SVPZqZKcB5JQ69lo2YuxgJKsAgnaU958KTvSBoKcCszRa9yZGTPVrMKMCTjRc9oPq2o2ZmJsBU46W9EeSPvbB2JsDMGCU9+DKZPadwI8DWhf68TBwxPb3WJMAkRow927GjvGNPIsDNwqA9zOmRvUayI8BU1h29oPq2owAAIMBU46W9+t6VvTcEIMB8Ow49aI2OPfkeIMCOrSk9EueWPUC+HMDczAm9KauRvbQ7HcAZvR691Kp3vJJ5HcBA+aI9oPq2o5qZGcBU46W9iF1UPSAmHMCJ5349ZleVvVyXGsCEcRA985qivN8HGcB91KA9M+SVvWZmFsB5JQ69FxujPTlQGcCoCHI8OwiVPR5PFsAotxG9pn+CvVOyFcC91Ew9Z3I1PcddF8Ct4Yo9oPq2ozMzE8BU46W9tlqwt5FlFMBU46U93QSfvbl6EcCV97w8OcyRvaJrEMB+Qx69HhCaPYNVFMDWCfY8M+SVPQAAEMB5JQ69hXOovM2wD8AbdKA9xCtyPcBoDsBUx2I9oPq2o83MDMBU46W9ISOVvXQuDcDnSBE9VgWVPaGgCcD9whG9lpeRvcYYCsDcBB+9D0jpu8YhC8D8PqU9SmOGPQDQCMAXg0I9EsaIvYS9B8D+vTs9oPq2o2ZmBsBU46W9dRm3OziDBcApfqU93+mSvcCuBMC5FBq9C1qXPfEtA8Da0Ac9WyiJPXIhA8BRnjq9Qr91vVwkAsD75V49oPq2owAAAMBU46W9KJEWPAqHAMAf0aQ9VI2lvRWj/7841Ki76HmUPc2N/L/c9xM9M+SVPZqZ+b95JQ69ZcyAvap0+r9hF1E9jeWcvYri9L+Ofde8oPq2ozMz879U46W94q3Yukb09L982qU9tPCEPTMz87+Cc0Y9gUKIvV7C8L8oOz09M+SVPc3M7L95JQ69Zd62uzqj6r9qfqU9FwCWvUaF67+Yrw29oPq2o2Zm5r9U46W9ygeWPf8x6r/2jg09CMWTvYG65b9SxRY94tOYPQFJ4L8PCQG9VQWUvQOr378xyBW9v/UqPan24L8/K4490x7ZvDat37+VwZw9s3iTvZOT2b8e7xc9oPq2o5qZ2b9U46W9pMCPPQaT2L8OlCU9M+SVPTMz0795JQ692tWVvaT907/sYQ69qNPFu+TP1L81baU9oPq2o83MzL9U46W9NeuMvXFczb8aDS89KdRtPacQ0L8OVGc9OyJku7ZCyb8YvKU9wOSXvZygxr/SXwW9M+SVPWZmxr95JQ69XcmLveerwb83pTI97+SIPQI7xr/uYzs9oPq2owAAwL9U46W9TBwxPa3gvL8kRow9Rb65vK7Zur+YQZ89/kSZPYQaur/51/28bx6WvW+Xub/RLg29oPq2ozMzs79U46W97uqIvb/ttL9oUjs92duTPXb5sr+/axY9n9obO6I3r78F0aU9M+SVPc3MrL95JQ69FP6TvZ6Grr/c5BW9iTuHvZQ7qb/wJ0A98E2BPcvZqb+Z1k89oPq2o2Zmpr9U46W93OLmO3WEpr9ZQqU9IKSfvfmJo78dYbS8M+SVPQAAoL95JQ69TnxjvX+uoL/LgXE9Vf6KPVHQoL+PGjU9Qg9svWnQm78nImm9oPq2o5qZmb9U46W9Z4EXPb3kl7/plJM9sJCKvckml79uaTY9R4qZPSLGk7+PNvu8M+SVvTMzk795JQ69gQOGOnULjL/y36U9abaUPck1jb8JBBM9dZiPvQLQjL9MHyY9oPq2o83MjL9U46W9M+SVPWZmhr95JQ69ZKiZvRHkhb9ND/q86JY2vQ8mhb+1gYo9tNKRPRGahL+aKx49nRJTPP3uf7/CxqM9oPq2owAAgL9U46W96FWZPUoldr9bNP08mBWPPShZbL+Y4Ce952h8vZoldL8PU1c933GWvTnPcL/IyQu9bosTPLwabL8N3KQ9oPq2o2ZmZr9U46W988GGvcVNYr9ufEE9aZeRPUuZYL+CBR89DCqPPVblVr/Imie9igSUvYyQWb9WyxW9VK9yurSkVL+O4KU9oPq2o83MTL9U46W9o1CIPROCSb9tEj09TJGPvaFqSr8KOCY9XOSSvXvBPr+8KRq9M+SVPQAAQL95JQ69TcOLu9SWO79pqKU9oPq2ozMzM79U46W9LEGXPUOuNb9+Pwg9rWuNvXYoMb/BbC09DZyYPVDxJb9VEAK9wNgvPbglJb/Dq4w910zDvK/zI79Aip49II6SvbQ9Jr+vcBu9oPq2o5qZGb9U46W93FmQvUBPGL93eyM99Q+UPTrFEr8snhU9M+SVPc3MDL95JQ69hcGfu39rDb9VlqU91UWSvVfIDL8ggBy9oPq2owAAAL9U46W9J52UPe8p/74OahM9dsGQvX4oAb9rCyI9gHpBvMKD876XHaQ9QSeYPT5R5b5ALwS9EfmSvdei5r632hm9no8rPbWM2r7g/I09EkeGvai71L770EI9oPq2o83MzL5U46W9BXGUvW9qtr6DGxS9OLiaPXPOv77ZWu88wnmUPQACsr51+BO9i6Knu6SZsr6LjqU9D5mOvXqOmb5ghik9oPq2o5qZmb5U46W96w+WvX4Ag759bA29skOLPYFjl77pRDQ9CoJNuzXKgb5+w6U9M+SVPQAAgL55JQ6993eIvamJVr7QoDw9oPq2o83MTL5U46W9vbWPPVwlVr7kuSU9KgOcvdrTKL6Jh+G8buZVu/4tKb7XwKU9ugaTPSNcHr56phm9PYKFvY6RAL4v60Q9i1RtvULI2r361me9oPq2o83MzL1U46W9E4R1PRPc6r0pJ189G++gvT2Cp71o86C8g2kdutIQmb0p4qU9eeKhPXvMo7105ZC8C3VHPcFXk702kIS9Y3SCvRhdgb1t8Uw9N74xvRe6c73oEoy9S7KBPZ0uUb3k2049oPq2owAAAABU46W9lbqhvQAAAAB6p5M8S7KBvQAAAADk2069xPMPPQAAAAC+dZU9xPMPvQAAAAC+dZU9AADApAAAAABu2zaklbqhPQAAAAB6p5M8S7KBPQAAAADk2069fQdHv8OUD8DgASE/4JR5vwAAQMCH3GM+AibevgAAQMDlpWY/DShBOs3dD8D7/38/24p6vzRoDMBsUFK+tEB3v2nYvL9BsoQ+MjHavkLdvr8bl2c/AAAAJQAAQMAlSRKlHCZIvwAAQMAHnR+/AibePgAAQMDlpWY/4JR5PwAAQMCH3GM+ADCNpQAAQMAAAIC/HCZIPwAAQMAHnR+/WC1IP7obEMD0kx8/LwzfPm/2v79WbmY/20oHv+iN8r9EVFm/S2hkv1iltb8uOee+e6x5PwgoEMBPPWK+wJV5P9srwL87zWM+ADCNpQAAAAAAAIC/cSY0v4sqUL9l4jW/dUs0P+sQDMC0vTW/wK1kPwXnyr/wJea+4JR5vzVuQL+H3GO+fTVHv9/DPr/yyCA/20oHPxhyjb9EVFm/SJIdO9LpPr/Q/38/HCZIP8uRP78HnR8/6ZB6PxO0Tr/d3FG+4JR5vwAAAACH3GM+HCZIvwAAAAAHnR+/AibevgAAAADlpWY/HCZIPwAAAAAHnR+/AAAAJQAAAAAlSRKlAibePgAAAADlpWY/4JR5PwAAAACH3GM+YE96QQAAAAAAAAAAupGdQQlFXkAAAAAAAACgQQAAAAAAAAAAupGdQQAAAAAJRV5AatR0QZkitkAAAAAAatR0QQAAAACZIrZAE3AIQX8vB0EAAAAAE3AIQQAAAAB/LwdBAAAAAAAAAAAAAAAA5GOeQZM9AECOyv8/AFKXQVpbwEB25x1A5E+aQc+9bkBVoG9Az1mWQZXk2kAAAAAAo2yXQZSNHkBt6L5Az1mWQQAAAACV5NpAi49dQQAAAABzIxtBHrmQQbJOwUCMp8BANCSPQfCIOUA7PgdBi49dQXMjG0EAAAAAC1qPQSixBUHU+kBAZ5CKQQAAAAAAACBBdOqEQfa8tUBMOBlBNDt8QZfMEkHCQgNBg72FQc6VGkEB06ZAZ5CKQQAAIEEAAAAAN7+BQR6cNUGgdjZAXCJ1QSmxTUEAAAAAMvNfQcnpX0EhtTdALHhoQcLnRkFDj7tAKbFNQVwidUEAAAAAcyMbQYuPXUEAAAAA/OmBQffpNECCOjVBWG01Qa/YgUG/1TRAIwpFQQenb0FAvpxAXCJ1QQAAAAApsU1BRjduQdhxq0Bdt0NBEPFgQTeCOEAo4F5BKbFNQQAAAABcInVBcyMbQQAAAACLj11BAAAgQWeQikEAAAAAleTaQM9ZlkEAAAAA1KK2QEyUdEEAAAAAK9MEQQ23j0HxGjlAOPMbQR1hhUGYXaZAvmqkQIgNmUHnOjBARcLKQLwokEGQrr1AIVBvQcbQ80D0+S1BqUNTQe4k9kCcck5BbcpHQdKUpUDa22tBulNaQb9RHkGvPixBH3hXQSEJP0GlkAtB8K80QZRTaEGRNftAhuo1QXMfKkDN5oFBCUVeQLqRnUEAAAAAKCQHQRHQgkHPgvpAuusqQT7370CFd3JBDowyQeM9IUGhAFNBAAAgQQAAAABnkIpBYE/6JmBPekEAAAAANTAeQKOJnUFrKx5Ai9Q6QKXpmEFok6NAAAAgJwAAoEEAAAAAuhQ2Qaz8R0EHCCtBjjYhQQYApkCh1YNBleTaQAAAAADPWZZB1KK2QAAAAABMlHRBupEdJ7qRnUEJRV5AElcMQRtMbEFV6iNBKLEFQdT6QEALWo9BlgL6JpYCekEXLZJAvWeJJr1nCUG9ZwlBz1kWJ89ZlkGV5NpAAAAAAAAAAABgT3pBywVBQOPWj0GAkwNBQE+9QFfVhEFmMxdBKX7rJil+a0F4PgRB5wKuQPSXMEDCYZhB8j71QKwK4kBGjohBfUK7QNb6sUCOYpJBCUVeQAAAAAC6kZ1BCSwGQarRH0EgmnJBE0QLQU6eSEFAx05BZ5AKJ2eQikEAACBBEMW+QJuVaUEv00RBVEdBQF/CgUG13zRB/CtiQIYyCEA9j5xBTxtNQGxIrUD735dBAHwwDAB8sCYAAKBB5QU3JuUFt0DyBXVBEDjUJhA4VEHGRzVBcyObJnMjG0GLj11Bewe5QPyUQkE+mWxBb8KuQA5rGUFKcYVBGfahQEcw7kBC4Y5BCUXeJQlFXkC6kZ1BsIA/QBMkBUHFgo9BleRaJpXk2kDPWZZBXCL1JlwidUEpsU1BsIA/QFpHX0HcLGBBKbHNJimxTUFcInVB1PpAQExyNUHzkIFBAACgJgAAIEFnkIpB\"\n",
              "        }\n",
              "      ]\n",
              "    },\n",
              "    \"63ee8dd96e25450e93327b215b678942\": {\n",
              "      \"model_name\": \"BufferAttributeModel\",\n",
              "      \"model_module\": \"jupyter-threejs\",\n",
              "      \"model_module_version\": \"^2.1.0\",\n",
              "      \"state\": {\n",
              "        \"array\": {\n",
              "          \"shape\": [\n",
              "            7572\n",
              "          ],\n",
              "          \"dtype\": \"uint16\"\n",
              "        }\n",
              "      },\n",
              "      \"buffers\": [\n",
              "        {\n",
              "          \"encoding\": \"base64\",\n",
              "          \"path\": [\n",
              "            \"array\",\n",
              "            \"buffer\"\n",
              "          ],\n",
              "          \"data\": \"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\"\n",
              "        }\n",
              "      ]\n",
              "    },\n",
              "    \"bfd3320584504ffe9f6c39c3eebe7d93\": {\n",
              "      \"model_name\": \"LineBasicMaterialModel\",\n",
              "      \"model_module\": \"jupyter-threejs\",\n",
              "      \"model_module_version\": \"^2.1.0\",\n",
              "      \"state\": {\n",
              "        \"clippingPlanes\": [],\n",
              "        \"defines\": null\n",
              "      }\n",
              "    },\n",
              "    \"4da276ef3ff4402a8a365f4426abcc61\": {\n",
              "      \"model_name\": \"WebGLShadowMapModel\",\n",
              "      \"model_module\": \"jupyter-threejs\",\n",
              "      \"model_module_version\": \"^2.1.0\",\n",
              "      \"state\": {}\n",
              "    }\n",
              "  }\n",
              "}\n",
              "</script>\n",
              "<script type=\"application/vnd.jupyter.widget-view+json\">\n",
              "{\"version_major\": 2, \"version_minor\": 0, \"model_id\": \"6651efa65ea646ecaa59438f96e72dc7\"}\n",
              "</script>\n",
              "\n",
              "</body>\n",
              "</html>\n"
            ]
          },
          "metadata": {},
          "execution_count": 8
        }
      ]
    },
    {
      "cell_type": "code",
      "source": [
        "#Define mesh variables\n",
        "h = 0.15\n",
        "lc = 0.5\n",
        "tol = 1.0e-12\n",
        "eCoax = 2.3    #dielectric constant of RG-58 coax\n",
        "eSpace = 1.0   #dielectric constant of space around antenna \n",
        "\n",
        "#Define wave vector parameters\n",
        "#Set potential amplitude\n",
        "V0 = 10.0\n",
        "V_theta = 0.0\n",
        "\n",
        "#set current amplitude\n",
        "J0 = 10.0\n",
        "\n",
        "# Set the frequency of the wave.\n",
        "f = 1e6\n",
        "omega = 2 * np.pi * f\n",
        "\n",
        "# Set the background index of refraction.\n",
        "n0 = eSpace\n",
        "\n",
        "# Set the wave speed.\n",
        "c = 3e10\n",
        "\n",
        "# Compute the wave vector.\n",
        "k0 = n0 * omega / c\n",
        "p = 2"
      ],
      "metadata": {
        "id": "OpJy3lkbGenX"
      },
      "execution_count": 9,
      "outputs": []
    },
    {
      "cell_type": "markdown",
      "source": [
        "#Define J and Boundary Conditions"
      ],
      "metadata": {
        "id": "Di4T4byrmKov"
      }
    },
    {
      "cell_type": "code",
      "source": [
        "import multiphenicsx.fem\n",
        "import multiphenicsx.io"
      ],
      "metadata": {
        "id": "I4U0s2ZH6aFz"
      },
      "execution_count": 10,
      "outputs": []
    },
    {
      "cell_type": "code",
      "source": [
        "\n",
        "x = ufl.SpatialCoordinate(domain)\n",
        "#Dirichlet = boundary condition function constant \n",
        "#Neumann = boundary condition function derivative constant\n",
        "\n",
        "#Complex number is used to account for helmholtz, but fenics uses it to find just the magnitude of the field at different point, so time dependence disappears\n",
        "#only electric field needs to be found b/c the B field is B = e(r) x E0\n",
        "#neumann describes open boundary conditions, dirichlet describes clamped\n",
        "#follow Helmholz and \"colab movie\" notebooks to find how to set boundary conditions based on facets of different objects\n",
        "#Use multipheics to observe what the output of the tags are and then set BC's accordingly\n",
        "#Look at magnetic field ring equation to see how current density was used to set current densities in different wires (i.e areas w/ tags having some current density)\n",
        "\n",
        "# #First we have to set the boundary conditions because the \n",
        "# def uD_function(t):\n",
        "#     return lambda x: J0*np.cos(2*np.pi*x[2]) #Jz = J0 * cos(2piZ/lambda) \"ask if decaying expontial is correct here?\"\n",
        "#     # return lambda x: x[1] * np.cos(t)\n",
        "\n",
        "# # Turn this function definition into a time-dependent function on the mesh.\n",
        "# uD = fem.Function(V)\n",
        "\n",
        "# # Initialize the function for t=0.\n",
        "# t = 0\n",
        "# uD.interpolate(uD_function(t))\n",
        "\n",
        "# Define functions for current density and magnetic permeability.\n",
        "Q = dolfinx.fem.VectorFunctionSpace(domain, (\"DG\", 0))\n",
        "J = dolfinx.fem.Function(Q)\n",
        "expr = fem.Expression(ufl.as_vector((0, 0, J0*ufl.cos(2*np.pi*x[2]/4))), Q.element.interpolation_points())\n",
        "J.interpolate(expr)\n",
        "\n",
        "# uncomment to see current density\n",
        "# multiphenicsx.io.plot_vector_field(J, \"J\")\n",
        "\n",
        "# Only some regions carry current. Initialize all current densities to zero.\n",
        "J.x.array[:]"
      ],
      "metadata": {
        "id": "sk8FM8t8miIO",
        "colab": {
          "base_uri": "https://localhost:8080/"
        },
        "outputId": "46ca6809-299e-4741-8eb5-e27c9eae4aee"
      },
      "execution_count": 11,
      "outputs": [
        {
          "output_type": "execute_result",
          "data": {
            "text/plain": [
              "array([0.        , 0.        , 9.98456439, ..., 0.        , 0.        ,\n",
              "       8.69547784])"
            ]
          },
          "metadata": {},
          "execution_count": 11
        }
      ]
    },
    {
      "cell_type": "code",
      "source": [
        "from mpl_toolkits import mplot3d\n",
        "import matplotlib.pyplot as plt\n",
        "coordinates = Q.tabulate_dof_coordinates()\n",
        "xx = coordinates[:,0]\n",
        "yy = coordinates[:,1]\n",
        "zz = coordinates[:,2]\n",
        "j_vals = J.x.array.reshape(-1, 3)\n",
        "\n",
        "# fig = plt.figure(dpi=300, figsize=(4,8))\n",
        "# Ax = fig.add_subplot(projection = \"3d\")\n",
        "# Ax.scatter3D(xx, yy, zz, c=j_vals[:,2], cmap='jet', s=0.2, alpha=0.2)\n",
        "\n",
        "#comment to see graph\n",
        "display.clear_output()"
      ],
      "metadata": {
        "id": "iWtJDU1VHvDB"
      },
      "execution_count": 23,
      "outputs": []
    },
    {
      "cell_type": "code",
      "source": [
        "zero = dolfinx.fem.Constant(domain, petsc.ScalarType(0.0))\n",
        "\n",
        "source_function = dolfinx.fem.Expression(ufl.as_vector((zero, zero, J0*ufl.cos(x[2]))), Q.element.interpolation_points())\n",
        "zero_function = dolfinx.fem.Expression(ufl.as_vector((zero,zero,zero)), Q.element.interpolation_points())\n",
        "\n",
        "material_tags = np.unique(cell_tags.values)\n",
        "for tag in material_tags:\n",
        "    cells = cell_tags.find(tag)\n",
        "    \n",
        "    # Set nonzero current densities.\n",
        "    if tag == 20:\n",
        "        J.interpolate(source_function, cells)\n",
        "    else:\n",
        "        J.interpolate(zero_function, cells)"
      ],
      "metadata": {
        "id": "9J8Afr65LHra"
      },
      "execution_count": 13,
      "outputs": []
    },
    {
      "cell_type": "code",
      "source": [
        "J_vals = J.x.array.reshape(-1,3)\n",
        "\n",
        "#Make a scatterplot with matplotlib\n",
        "# fig = plt.figure(dpi=300, figsize=(4,8))\n",
        "# ax = fig.add_subplot(projection='3d')\n",
        "# cb = ax.scatter(xx,yy,zz,c=J_vals[:,2], cmap='jet', s=0.1, alpha=0.2)\n",
        "# plt.colorbar(cb)"
      ],
      "metadata": {
        "id": "oS_vWLH8_VZ3"
      },
      "execution_count": 22,
      "outputs": []
    },
    {
      "cell_type": "markdown",
      "source": [
        "#Define and Solve Problem with FEniCS"
      ],
      "metadata": {
        "id": "hpLDCUE4Aggr"
      }
    },
    {
      "cell_type": "code",
      "source": [
        "n_hat = ufl.FacetNormal(domain)\n",
        "# x = ufl.SpatialCoordinate(domain)\n",
        "theta = 0\n",
        "# phi0 = ufl.exp(1j * k0 * x[0])          #i*k0*x\n",
        "# g = ufl.dot(ufl.grad(phi0), n_hat) + 1j * k0 * phi0   #(grad(phi0) dot n_hat) + i*k0*phi0 see notebook 11\n",
        "\n",
        "# r = ufl.as_vector((ufl.sqrt(x[0]**2 + x[1]**2 + x[2]**2), zero, zero))\n",
        "display.clear_output()"
      ],
      "metadata": {
        "id": "6zY2CfF3_OL4"
      },
      "execution_count": 15,
      "outputs": []
    },
    {
      "cell_type": "code",
      "source": [
        "# element = ufl.FiniteElement(\"N1curl\", ufl.tetrahedron, p)\n",
        "# V = dolfinx.fem.FunctionSpace(domain, element)\n",
        "V = dolfinx.fem.VectorFunctionSpace(domain, (\"Lagrange\", 2))\n",
        "\n",
        "def incoming_wave(x):\n",
        "    d = np.cos(theta) * x[0] + np.sin(theta) * x[1]\n",
        "    out = np.zeros(x.shape, dtype=np.complex128)\n",
        "    out[2] = np.exp(1.0j * k0 * d)\n",
        "    return out\n",
        "\n",
        "# Incoming wave\n",
        "A = dolfinx.fem.Function(V)\n",
        "A.interpolate(incoming_wave)\n",
        "\n",
        "# Maxwell Boundary for electric field\n",
        "g = ufl.cross(ufl.curl(A), n_hat) + 1j * k0 * ufl.cross(n_hat, ufl.cross(ufl.curl(A), n_hat))\n",
        "\n",
        "# Helmholtz boundary\n",
        "h =  ufl.dot(ufl.grad(A), n_hat) + 1j * k0 * A"
      ],
      "metadata": {
        "id": "EjtB8KvQQ1hS"
      },
      "execution_count": null,
      "outputs": []
    },
    {
      "cell_type": "code",
      "source": [
        "\n",
        "# Define variational problem\n",
        "u = ufl.TrialFunction(V)\n",
        "v = ufl.TestFunction(V)\n",
        "\n",
        "# # Weak Form\n",
        "a  = ufl.inner(ufl.curl(u), ufl.curl(v)) * ufl.dx \n",
        "a -= k0**2 * ufl.inner(u, v) * ufl.dx\n",
        "a += 1j * k0 * ufl.inner(ufl.cross(n_hat, u), ufl.cross(u, v)) * ufl.ds\n",
        "\n",
        "# L = ufl.inner(h, v) * ufl.ds\n",
        "L = ufl.inner(g, v) * ufl.ds\n",
        "petsc_options = {\"ksp_type\": \"preonly\", \"pc_type\": \"lu\"}"
      ],
      "metadata": {
        "id": "KJE9Q2bnR34i"
      },
      "execution_count": 17,
      "outputs": []
    },
    {
      "cell_type": "code",
      "source": [
        "u1 = dolfinx.fem.Function(V)"
      ],
      "metadata": {
        "id": "JT68QftYVFS1"
      },
      "execution_count": 18,
      "outputs": []
    },
    {
      "cell_type": "code",
      "source": [
        "dolfinx.__version__"
      ],
      "metadata": {
        "colab": {
          "base_uri": "https://localhost:8080/",
          "height": 35
        },
        "id": "ifrE6cHhVg-6",
        "outputId": "4f4033c7-72bc-4b47-cce1-01a54a98a2e8"
      },
      "execution_count": 19,
      "outputs": [
        {
          "output_type": "execute_result",
          "data": {
            "text/plain": [
              "'0.6.0.0'"
            ],
            "application/vnd.google.colaboratory.intrinsic+json": {
              "type": "string"
            }
          },
          "metadata": {},
          "execution_count": 19
        }
      ]
    },
    {
      "cell_type": "code",
      "source": [
        "solver = dolfinx.fem.petsc.LinearProblem(a, L, [], u1, petsc_options)"
      ],
      "metadata": {
        "colab": {
          "base_uri": "https://localhost:8080/",
          "height": 352
        },
        "id": "BLVTu81yVGrD",
        "outputId": "a370bfc0-883a-46fb-9c52-3dfd8e08a07a"
      },
      "execution_count": 20,
      "outputs": [
        {
          "output_type": "stream",
          "name": "stdout",
          "text": [
            "Unexpected complex value in real expression.\n"
          ]
        },
        {
          "output_type": "stream",
          "name": "stderr",
          "text": [
            "ERROR:UFL:Unexpected complex value in real expression.\n"
          ]
        },
        {
          "output_type": "error",
          "ename": "UFLException",
          "evalue": "ignored",
          "traceback": [
            "\u001b[0;31m---------------------------------------------------------------------------\u001b[0m",
            "\u001b[0;31mUFLException\u001b[0m                              Traceback (most recent call last)",
            "\u001b[0;32m<ipython-input-20-fe978fd40c48>\u001b[0m in \u001b[0;36m<module>\u001b[0;34m\u001b[0m\n\u001b[0;32m----> 1\u001b[0;31m \u001b[0msolver\u001b[0m \u001b[0;34m=\u001b[0m \u001b[0mdolfinx\u001b[0m\u001b[0;34m.\u001b[0m\u001b[0mfem\u001b[0m\u001b[0;34m.\u001b[0m\u001b[0mpetsc\u001b[0m\u001b[0;34m.\u001b[0m\u001b[0mLinearProblem\u001b[0m\u001b[0;34m(\u001b[0m\u001b[0ma\u001b[0m\u001b[0;34m,\u001b[0m \u001b[0mL\u001b[0m\u001b[0;34m,\u001b[0m \u001b[0;34m[\u001b[0m\u001b[0;34m]\u001b[0m\u001b[0;34m,\u001b[0m \u001b[0mu1\u001b[0m\u001b[0;34m,\u001b[0m \u001b[0mpetsc_options\u001b[0m\u001b[0;34m)\u001b[0m\u001b[0;34m\u001b[0m\u001b[0;34m\u001b[0m\u001b[0m\n\u001b[0m",
            "\u001b[0;32m/usr/local/lib/python3.8/dist-packages/dolfinx/fem/petsc.py\u001b[0m in \u001b[0;36m__init__\u001b[0;34m(self, a, L, bcs, u, petsc_options, form_compiler_options, jit_options)\u001b[0m\n\u001b[1;32m    564\u001b[0m                                                    \"pc_factor_mat_solver_type\": \"mumps\"})\n\u001b[1;32m    565\u001b[0m         \"\"\"\n\u001b[0;32m--> 566\u001b[0;31m         \u001b[0mself\u001b[0m\u001b[0;34m.\u001b[0m\u001b[0m_a\u001b[0m \u001b[0;34m=\u001b[0m \u001b[0m_create_form\u001b[0m\u001b[0;34m(\u001b[0m\u001b[0ma\u001b[0m\u001b[0;34m,\u001b[0m \u001b[0mform_compiler_options\u001b[0m\u001b[0;34m=\u001b[0m\u001b[0mform_compiler_options\u001b[0m\u001b[0;34m,\u001b[0m \u001b[0mjit_options\u001b[0m\u001b[0;34m=\u001b[0m\u001b[0mjit_options\u001b[0m\u001b[0;34m)\u001b[0m\u001b[0;34m\u001b[0m\u001b[0;34m\u001b[0m\u001b[0m\n\u001b[0m\u001b[1;32m    567\u001b[0m         \u001b[0mself\u001b[0m\u001b[0;34m.\u001b[0m\u001b[0m_A\u001b[0m \u001b[0;34m=\u001b[0m \u001b[0mcreate_matrix\u001b[0m\u001b[0;34m(\u001b[0m\u001b[0mself\u001b[0m\u001b[0;34m.\u001b[0m\u001b[0m_a\u001b[0m\u001b[0;34m)\u001b[0m\u001b[0;34m\u001b[0m\u001b[0;34m\u001b[0m\u001b[0m\n\u001b[1;32m    568\u001b[0m \u001b[0;34m\u001b[0m\u001b[0m\n",
            "\u001b[0;32m/usr/local/lib/python3.8/dist-packages/dolfinx/fem/forms.py\u001b[0m in \u001b[0;36mform\u001b[0;34m(form, dtype, form_compiler_options, jit_options)\u001b[0m\n\u001b[1;32m    174\u001b[0m         \u001b[0;32mreturn\u001b[0m \u001b[0mform\u001b[0m\u001b[0;34m\u001b[0m\u001b[0;34m\u001b[0m\u001b[0m\n\u001b[1;32m    175\u001b[0m \u001b[0;34m\u001b[0m\u001b[0m\n\u001b[0;32m--> 176\u001b[0;31m     \u001b[0;32mreturn\u001b[0m \u001b[0m_create_form\u001b[0m\u001b[0;34m(\u001b[0m\u001b[0mform\u001b[0m\u001b[0;34m)\u001b[0m\u001b[0;34m\u001b[0m\u001b[0;34m\u001b[0m\u001b[0m\n\u001b[0m\u001b[1;32m    177\u001b[0m \u001b[0;34m\u001b[0m\u001b[0m\n\u001b[1;32m    178\u001b[0m \u001b[0;34m\u001b[0m\u001b[0m\n",
            "\u001b[0;32m/usr/local/lib/python3.8/dist-packages/dolfinx/fem/forms.py\u001b[0m in \u001b[0;36m_create_form\u001b[0;34m(form)\u001b[0m\n\u001b[1;32m    169\u001b[0m         return form argument\"\"\"\n\u001b[1;32m    170\u001b[0m         \u001b[0;32mif\u001b[0m \u001b[0misinstance\u001b[0m\u001b[0;34m(\u001b[0m\u001b[0mform\u001b[0m\u001b[0;34m,\u001b[0m \u001b[0mufl\u001b[0m\u001b[0;34m.\u001b[0m\u001b[0mForm\u001b[0m\u001b[0;34m)\u001b[0m\u001b[0;34m:\u001b[0m\u001b[0;34m\u001b[0m\u001b[0;34m\u001b[0m\u001b[0m\n\u001b[0;32m--> 171\u001b[0;31m             \u001b[0;32mreturn\u001b[0m \u001b[0m_form\u001b[0m\u001b[0;34m(\u001b[0m\u001b[0mform\u001b[0m\u001b[0;34m)\u001b[0m\u001b[0;34m\u001b[0m\u001b[0;34m\u001b[0m\u001b[0m\n\u001b[0m\u001b[1;32m    172\u001b[0m         \u001b[0;32melif\u001b[0m \u001b[0misinstance\u001b[0m\u001b[0;34m(\u001b[0m\u001b[0mform\u001b[0m\u001b[0;34m,\u001b[0m \u001b[0mcollections\u001b[0m\u001b[0;34m.\u001b[0m\u001b[0mabc\u001b[0m\u001b[0;34m.\u001b[0m\u001b[0mIterable\u001b[0m\u001b[0;34m)\u001b[0m\u001b[0;34m:\u001b[0m\u001b[0;34m\u001b[0m\u001b[0;34m\u001b[0m\u001b[0m\n\u001b[1;32m    173\u001b[0m             \u001b[0;32mreturn\u001b[0m \u001b[0mlist\u001b[0m\u001b[0;34m(\u001b[0m\u001b[0mmap\u001b[0m\u001b[0;34m(\u001b[0m\u001b[0;32mlambda\u001b[0m \u001b[0msub_form\u001b[0m\u001b[0;34m:\u001b[0m \u001b[0m_create_form\u001b[0m\u001b[0;34m(\u001b[0m\u001b[0msub_form\u001b[0m\u001b[0;34m)\u001b[0m\u001b[0;34m,\u001b[0m \u001b[0mform\u001b[0m\u001b[0;34m)\u001b[0m\u001b[0;34m)\u001b[0m\u001b[0;34m\u001b[0m\u001b[0;34m\u001b[0m\u001b[0m\n",
            "\u001b[0;32m/usr/local/lib/python3.8/dist-packages/dolfinx/fem/forms.py\u001b[0m in \u001b[0;36m_form\u001b[0;34m(form)\u001b[0m\n\u001b[1;32m    143\u001b[0m             \u001b[0;32mraise\u001b[0m \u001b[0mRuntimeError\u001b[0m\u001b[0;34m(\u001b[0m\u001b[0;34m\"Expecting to find a Mesh in the form.\"\u001b[0m\u001b[0;34m)\u001b[0m\u001b[0;34m\u001b[0m\u001b[0;34m\u001b[0m\u001b[0m\n\u001b[1;32m    144\u001b[0m \u001b[0;34m\u001b[0m\u001b[0m\n\u001b[0;32m--> 145\u001b[0;31m         ufcx_form, module, code = jit.ffcx_jit(mesh.comm, form,\n\u001b[0m\u001b[1;32m    146\u001b[0m                                                \u001b[0mform_compiler_options\u001b[0m\u001b[0;34m=\u001b[0m\u001b[0mform_compiler_options\u001b[0m\u001b[0;34m,\u001b[0m\u001b[0;34m\u001b[0m\u001b[0;34m\u001b[0m\u001b[0m\n\u001b[1;32m    147\u001b[0m                                                jit_options=jit_options)\n",
            "\u001b[0;32m/usr/local/lib/python3.8/dist-packages/dolfinx/jit.py\u001b[0m in \u001b[0;36mmpi_jit\u001b[0;34m(comm, *args, **kwargs)\u001b[0m\n\u001b[1;32m     54\u001b[0m         \u001b[0;31m# Just call JIT compiler when running in serial\u001b[0m\u001b[0;34m\u001b[0m\u001b[0;34m\u001b[0m\u001b[0;34m\u001b[0m\u001b[0m\n\u001b[1;32m     55\u001b[0m         \u001b[0;32mif\u001b[0m \u001b[0mcomm\u001b[0m\u001b[0;34m.\u001b[0m\u001b[0msize\u001b[0m \u001b[0;34m==\u001b[0m \u001b[0;36m1\u001b[0m\u001b[0;34m:\u001b[0m\u001b[0;34m\u001b[0m\u001b[0;34m\u001b[0m\u001b[0m\n\u001b[0;32m---> 56\u001b[0;31m             \u001b[0;32mreturn\u001b[0m \u001b[0mlocal_jit\u001b[0m\u001b[0;34m(\u001b[0m\u001b[0;34m*\u001b[0m\u001b[0margs\u001b[0m\u001b[0;34m,\u001b[0m \u001b[0;34m**\u001b[0m\u001b[0mkwargs\u001b[0m\u001b[0;34m)\u001b[0m\u001b[0;34m\u001b[0m\u001b[0;34m\u001b[0m\u001b[0m\n\u001b[0m\u001b[1;32m     57\u001b[0m \u001b[0;34m\u001b[0m\u001b[0m\n\u001b[1;32m     58\u001b[0m         \u001b[0;31m# Default status (0 == ok, 1 == fail)\u001b[0m\u001b[0;34m\u001b[0m\u001b[0;34m\u001b[0m\u001b[0;34m\u001b[0m\u001b[0m\n",
            "\u001b[0;32m/usr/local/lib/python3.8/dist-packages/dolfinx/jit.py\u001b[0m in \u001b[0;36mffcx_jit\u001b[0;34m(ufl_object, form_compiler_options, jit_options)\u001b[0m\n\u001b[1;32m    202\u001b[0m     \u001b[0;31m# Switch on type and compile, returning cffi object\u001b[0m\u001b[0;34m\u001b[0m\u001b[0;34m\u001b[0m\u001b[0;34m\u001b[0m\u001b[0m\n\u001b[1;32m    203\u001b[0m     \u001b[0;32mif\u001b[0m \u001b[0misinstance\u001b[0m\u001b[0;34m(\u001b[0m\u001b[0mufl_object\u001b[0m\u001b[0;34m,\u001b[0m \u001b[0mufl\u001b[0m\u001b[0;34m.\u001b[0m\u001b[0mForm\u001b[0m\u001b[0;34m)\u001b[0m\u001b[0;34m:\u001b[0m\u001b[0;34m\u001b[0m\u001b[0;34m\u001b[0m\u001b[0m\n\u001b[0;32m--> 204\u001b[0;31m         \u001b[0mr\u001b[0m \u001b[0;34m=\u001b[0m \u001b[0mffcx\u001b[0m\u001b[0;34m.\u001b[0m\u001b[0mcodegeneration\u001b[0m\u001b[0;34m.\u001b[0m\u001b[0mjit\u001b[0m\u001b[0;34m.\u001b[0m\u001b[0mcompile_forms\u001b[0m\u001b[0;34m(\u001b[0m\u001b[0;34m[\u001b[0m\u001b[0mufl_object\u001b[0m\u001b[0;34m]\u001b[0m\u001b[0;34m,\u001b[0m \u001b[0moptions\u001b[0m\u001b[0;34m=\u001b[0m\u001b[0mp_ffcx\u001b[0m\u001b[0;34m,\u001b[0m \u001b[0;34m**\u001b[0m\u001b[0mp_jit\u001b[0m\u001b[0;34m)\u001b[0m\u001b[0;34m\u001b[0m\u001b[0;34m\u001b[0m\u001b[0m\n\u001b[0m\u001b[1;32m    205\u001b[0m     \u001b[0;32melif\u001b[0m \u001b[0misinstance\u001b[0m\u001b[0;34m(\u001b[0m\u001b[0mufl_object\u001b[0m\u001b[0;34m,\u001b[0m \u001b[0mufl\u001b[0m\u001b[0;34m.\u001b[0m\u001b[0mFiniteElementBase\u001b[0m\u001b[0;34m)\u001b[0m\u001b[0;34m:\u001b[0m\u001b[0;34m\u001b[0m\u001b[0;34m\u001b[0m\u001b[0m\n\u001b[1;32m    206\u001b[0m         \u001b[0mr\u001b[0m \u001b[0;34m=\u001b[0m \u001b[0mffcx\u001b[0m\u001b[0;34m.\u001b[0m\u001b[0mcodegeneration\u001b[0m\u001b[0;34m.\u001b[0m\u001b[0mjit\u001b[0m\u001b[0;34m.\u001b[0m\u001b[0mcompile_elements\u001b[0m\u001b[0;34m(\u001b[0m\u001b[0;34m[\u001b[0m\u001b[0mufl_object\u001b[0m\u001b[0;34m]\u001b[0m\u001b[0;34m,\u001b[0m \u001b[0moptions\u001b[0m\u001b[0;34m=\u001b[0m\u001b[0mp_ffcx\u001b[0m\u001b[0;34m,\u001b[0m \u001b[0;34m**\u001b[0m\u001b[0mp_jit\u001b[0m\u001b[0;34m)\u001b[0m\u001b[0;34m\u001b[0m\u001b[0;34m\u001b[0m\u001b[0m\n",
            "\u001b[0;32m/usr/local/lib/python3.8/dist-packages/ffcx/codegeneration/jit.py\u001b[0m in \u001b[0;36mcompile_forms\u001b[0;34m(forms, options, cache_dir, timeout, cffi_extra_compile_args, cffi_verbose, cffi_debug, cffi_libraries)\u001b[0m\n\u001b[1;32m    184\u001b[0m             \u001b[0mdecl\u001b[0m \u001b[0;34m+=\u001b[0m \u001b[0mform_template\u001b[0m\u001b[0;34m.\u001b[0m\u001b[0mformat\u001b[0m\u001b[0;34m(\u001b[0m\u001b[0mname\u001b[0m\u001b[0;34m=\u001b[0m\u001b[0mname\u001b[0m\u001b[0;34m)\u001b[0m\u001b[0;34m\u001b[0m\u001b[0;34m\u001b[0m\u001b[0m\n\u001b[1;32m    185\u001b[0m \u001b[0;34m\u001b[0m\u001b[0m\n\u001b[0;32m--> 186\u001b[0;31m         impl = _compile_objects(decl, forms, form_names, module_name, p, cache_dir,\n\u001b[0m\u001b[1;32m    187\u001b[0m                                 cffi_extra_compile_args, cffi_verbose, cffi_debug, cffi_libraries)\n\u001b[1;32m    188\u001b[0m     \u001b[0;32mexcept\u001b[0m \u001b[0mException\u001b[0m\u001b[0;34m:\u001b[0m\u001b[0;34m\u001b[0m\u001b[0;34m\u001b[0m\u001b[0m\n",
            "\u001b[0;32m/usr/local/lib/python3.8/dist-packages/ffcx/codegeneration/jit.py\u001b[0m in \u001b[0;36m_compile_objects\u001b[0;34m(decl, ufl_objects, object_names, module_name, options, cache_dir, cffi_extra_compile_args, cffi_verbose, cffi_debug, cffi_libraries)\u001b[0m\n\u001b[1;32m    248\u001b[0m     \u001b[0;31m# JIT uses module_name as prefix, which is needed to make names of all struct/function\u001b[0m\u001b[0;34m\u001b[0m\u001b[0;34m\u001b[0m\u001b[0;34m\u001b[0m\u001b[0m\n\u001b[1;32m    249\u001b[0m     \u001b[0;31m# unique across modules\u001b[0m\u001b[0;34m\u001b[0m\u001b[0;34m\u001b[0m\u001b[0;34m\u001b[0m\u001b[0m\n\u001b[0;32m--> 250\u001b[0;31m     \u001b[0m_\u001b[0m\u001b[0;34m,\u001b[0m \u001b[0mcode_body\u001b[0m \u001b[0;34m=\u001b[0m \u001b[0mffcx\u001b[0m\u001b[0;34m.\u001b[0m\u001b[0mcompiler\u001b[0m\u001b[0;34m.\u001b[0m\u001b[0mcompile_ufl_objects\u001b[0m\u001b[0;34m(\u001b[0m\u001b[0mufl_objects\u001b[0m\u001b[0;34m,\u001b[0m \u001b[0mprefix\u001b[0m\u001b[0;34m=\u001b[0m\u001b[0mmodule_name\u001b[0m\u001b[0;34m,\u001b[0m \u001b[0moptions\u001b[0m\u001b[0;34m=\u001b[0m\u001b[0moptions\u001b[0m\u001b[0;34m)\u001b[0m\u001b[0;34m\u001b[0m\u001b[0;34m\u001b[0m\u001b[0m\n\u001b[0m\u001b[1;32m    251\u001b[0m \u001b[0;34m\u001b[0m\u001b[0m\n\u001b[1;32m    252\u001b[0m     \u001b[0mffibuilder\u001b[0m \u001b[0;34m=\u001b[0m \u001b[0mcffi\u001b[0m\u001b[0;34m.\u001b[0m\u001b[0mFFI\u001b[0m\u001b[0;34m(\u001b[0m\u001b[0;34m)\u001b[0m\u001b[0;34m\u001b[0m\u001b[0;34m\u001b[0m\u001b[0m\n",
            "\u001b[0;32m/usr/local/lib/python3.8/dist-packages/ffcx/compiler.py\u001b[0m in \u001b[0;36mcompile_ufl_objects\u001b[0;34m(ufl_objects, object_names, prefix, options, visualise)\u001b[0m\n\u001b[1;32m     95\u001b[0m     \u001b[0;31m# Stage 1: analysis\u001b[0m\u001b[0;34m\u001b[0m\u001b[0;34m\u001b[0m\u001b[0;34m\u001b[0m\u001b[0m\n\u001b[1;32m     96\u001b[0m     \u001b[0mcpu_time\u001b[0m \u001b[0;34m=\u001b[0m \u001b[0mtime\u001b[0m\u001b[0;34m(\u001b[0m\u001b[0;34m)\u001b[0m\u001b[0;34m\u001b[0m\u001b[0;34m\u001b[0m\u001b[0m\n\u001b[0;32m---> 97\u001b[0;31m     \u001b[0manalysis\u001b[0m \u001b[0;34m=\u001b[0m \u001b[0manalyze_ufl_objects\u001b[0m\u001b[0;34m(\u001b[0m\u001b[0mufl_objects\u001b[0m\u001b[0;34m,\u001b[0m \u001b[0moptions\u001b[0m\u001b[0;34m)\u001b[0m\u001b[0;34m\u001b[0m\u001b[0;34m\u001b[0m\u001b[0m\n\u001b[0m\u001b[1;32m     98\u001b[0m     \u001b[0m_print_timing\u001b[0m\u001b[0;34m(\u001b[0m\u001b[0;36m1\u001b[0m\u001b[0;34m,\u001b[0m \u001b[0mtime\u001b[0m\u001b[0;34m(\u001b[0m\u001b[0;34m)\u001b[0m \u001b[0;34m-\u001b[0m \u001b[0mcpu_time\u001b[0m\u001b[0;34m)\u001b[0m\u001b[0;34m\u001b[0m\u001b[0;34m\u001b[0m\u001b[0m\n\u001b[1;32m     99\u001b[0m \u001b[0;34m\u001b[0m\u001b[0m\n",
            "\u001b[0;32m/usr/local/lib/python3.8/dist-packages/ffcx/analysis.py\u001b[0m in \u001b[0;36manalyze_ufl_objects\u001b[0;34m(ufl_objects, options)\u001b[0m\n\u001b[1;32m     84\u001b[0m             \u001b[0;32mraise\u001b[0m \u001b[0mTypeError\u001b[0m\u001b[0;34m(\u001b[0m\u001b[0;34m\"UFL objects not recognised.\"\u001b[0m\u001b[0;34m)\u001b[0m\u001b[0;34m\u001b[0m\u001b[0;34m\u001b[0m\u001b[0m\n\u001b[1;32m     85\u001b[0m \u001b[0;34m\u001b[0m\u001b[0m\n\u001b[0;32m---> 86\u001b[0;31m     \u001b[0mform_data\u001b[0m \u001b[0;34m=\u001b[0m \u001b[0mtuple\u001b[0m\u001b[0;34m(\u001b[0m\u001b[0m_analyze_form\u001b[0m\u001b[0;34m(\u001b[0m\u001b[0mform\u001b[0m\u001b[0;34m,\u001b[0m \u001b[0moptions\u001b[0m\u001b[0;34m)\u001b[0m \u001b[0;32mfor\u001b[0m \u001b[0mform\u001b[0m \u001b[0;32min\u001b[0m \u001b[0mforms\u001b[0m\u001b[0;34m)\u001b[0m\u001b[0;34m\u001b[0m\u001b[0;34m\u001b[0m\u001b[0m\n\u001b[0m\u001b[1;32m     87\u001b[0m     \u001b[0;32mfor\u001b[0m \u001b[0mdata\u001b[0m \u001b[0;32min\u001b[0m \u001b[0mform_data\u001b[0m\u001b[0;34m:\u001b[0m\u001b[0;34m\u001b[0m\u001b[0;34m\u001b[0m\u001b[0m\n\u001b[1;32m     88\u001b[0m         \u001b[0melements\u001b[0m \u001b[0;34m+=\u001b[0m \u001b[0;34m[\u001b[0m\u001b[0mconvert_element\u001b[0m\u001b[0;34m(\u001b[0m\u001b[0me\u001b[0m\u001b[0;34m)\u001b[0m \u001b[0;32mfor\u001b[0m \u001b[0me\u001b[0m \u001b[0;32min\u001b[0m \u001b[0mdata\u001b[0m\u001b[0;34m.\u001b[0m\u001b[0munique_sub_elements\u001b[0m\u001b[0;34m]\u001b[0m\u001b[0;34m\u001b[0m\u001b[0;34m\u001b[0m\u001b[0m\n",
            "\u001b[0;32m/usr/local/lib/python3.8/dist-packages/ffcx/analysis.py\u001b[0m in \u001b[0;36m<genexpr>\u001b[0;34m(.0)\u001b[0m\n\u001b[1;32m     84\u001b[0m             \u001b[0;32mraise\u001b[0m \u001b[0mTypeError\u001b[0m\u001b[0;34m(\u001b[0m\u001b[0;34m\"UFL objects not recognised.\"\u001b[0m\u001b[0;34m)\u001b[0m\u001b[0;34m\u001b[0m\u001b[0;34m\u001b[0m\u001b[0m\n\u001b[1;32m     85\u001b[0m \u001b[0;34m\u001b[0m\u001b[0m\n\u001b[0;32m---> 86\u001b[0;31m     \u001b[0mform_data\u001b[0m \u001b[0;34m=\u001b[0m \u001b[0mtuple\u001b[0m\u001b[0;34m(\u001b[0m\u001b[0m_analyze_form\u001b[0m\u001b[0;34m(\u001b[0m\u001b[0mform\u001b[0m\u001b[0;34m,\u001b[0m \u001b[0moptions\u001b[0m\u001b[0;34m)\u001b[0m \u001b[0;32mfor\u001b[0m \u001b[0mform\u001b[0m \u001b[0;32min\u001b[0m \u001b[0mforms\u001b[0m\u001b[0;34m)\u001b[0m\u001b[0;34m\u001b[0m\u001b[0;34m\u001b[0m\u001b[0m\n\u001b[0m\u001b[1;32m     87\u001b[0m     \u001b[0;32mfor\u001b[0m \u001b[0mdata\u001b[0m \u001b[0;32min\u001b[0m \u001b[0mform_data\u001b[0m\u001b[0;34m:\u001b[0m\u001b[0;34m\u001b[0m\u001b[0;34m\u001b[0m\u001b[0m\n\u001b[1;32m     88\u001b[0m         \u001b[0melements\u001b[0m \u001b[0;34m+=\u001b[0m \u001b[0;34m[\u001b[0m\u001b[0mconvert_element\u001b[0m\u001b[0;34m(\u001b[0m\u001b[0me\u001b[0m\u001b[0;34m)\u001b[0m \u001b[0;32mfor\u001b[0m \u001b[0me\u001b[0m \u001b[0;32min\u001b[0m \u001b[0mdata\u001b[0m\u001b[0;34m.\u001b[0m\u001b[0munique_sub_elements\u001b[0m\u001b[0;34m]\u001b[0m\u001b[0;34m\u001b[0m\u001b[0;34m\u001b[0m\u001b[0m\n",
            "\u001b[0;32m/usr/local/lib/python3.8/dist-packages/ffcx/analysis.py\u001b[0m in \u001b[0;36m_analyze_form\u001b[0;34m(form, options)\u001b[0m\n\u001b[1;32m    162\u001b[0m \u001b[0;34m\u001b[0m\u001b[0m\n\u001b[1;32m    163\u001b[0m     \u001b[0;31m# Compute form metadata\u001b[0m\u001b[0;34m\u001b[0m\u001b[0;34m\u001b[0m\u001b[0;34m\u001b[0m\u001b[0m\n\u001b[0;32m--> 164\u001b[0;31m     form_data = ufl.algorithms.compute_form_data(\n\u001b[0m\u001b[1;32m    165\u001b[0m         \u001b[0mform\u001b[0m\u001b[0;34m,\u001b[0m\u001b[0;34m\u001b[0m\u001b[0;34m\u001b[0m\u001b[0m\n\u001b[1;32m    166\u001b[0m         \u001b[0mdo_apply_function_pullbacks\u001b[0m\u001b[0;34m=\u001b[0m\u001b[0;32mTrue\u001b[0m\u001b[0;34m,\u001b[0m\u001b[0;34m\u001b[0m\u001b[0;34m\u001b[0m\u001b[0m\n",
            "\u001b[0;32m/usr/local/lib/python3.8/dist-packages/ufl/algorithms/compute_form_data.py\u001b[0m in \u001b[0;36mcompute_form_data\u001b[0;34m(form, do_apply_function_pullbacks, do_apply_integral_scaling, do_apply_geometry_lowering, preserve_geometry_types, do_apply_default_restrictions, do_apply_restrictions, do_estimate_degrees, do_append_everywhere_integrals, complex_mode)\u001b[0m\n\u001b[1;32m    257\u001b[0m     \u001b[0;31m# allowing for purely real forms to be written\u001b[0m\u001b[0;34m\u001b[0m\u001b[0;34m\u001b[0m\u001b[0;34m\u001b[0m\u001b[0m\n\u001b[1;32m    258\u001b[0m     \u001b[0;32mif\u001b[0m \u001b[0;32mnot\u001b[0m \u001b[0mcomplex_mode\u001b[0m\u001b[0;34m:\u001b[0m\u001b[0;34m\u001b[0m\u001b[0;34m\u001b[0m\u001b[0m\n\u001b[0;32m--> 259\u001b[0;31m         \u001b[0mform\u001b[0m \u001b[0;34m=\u001b[0m \u001b[0mremove_complex_nodes\u001b[0m\u001b[0;34m(\u001b[0m\u001b[0mform\u001b[0m\u001b[0;34m)\u001b[0m\u001b[0;34m\u001b[0m\u001b[0;34m\u001b[0m\u001b[0m\n\u001b[0m\u001b[1;32m    260\u001b[0m \u001b[0;34m\u001b[0m\u001b[0m\n\u001b[1;32m    261\u001b[0m     \u001b[0;31m# Apply differentiation before function pullbacks, because for\u001b[0m\u001b[0;34m\u001b[0m\u001b[0;34m\u001b[0m\u001b[0;34m\u001b[0m\u001b[0m\n",
            "\u001b[0;32m/usr/local/lib/python3.8/dist-packages/ufl/algorithms/remove_complex_nodes.py\u001b[0m in \u001b[0;36mremove_complex_nodes\u001b[0;34m(expr)\u001b[0m\n\u001b[1;32m     35\u001b[0m     \u001b[0msupport\u001b[0m \u001b[0;32mfrom\u001b[0m \u001b[0mthe\u001b[0m \u001b[0mpreprocessed\u001b[0m \u001b[0mform\u001b[0m\u001b[0;34m.\u001b[0m\u001b[0;34m\u001b[0m\u001b[0;34m\u001b[0m\u001b[0m\n\u001b[1;32m     36\u001b[0m     \"\"\"\n\u001b[0;32m---> 37\u001b[0;31m     \u001b[0;32mreturn\u001b[0m \u001b[0mmap_integrand_dags\u001b[0m\u001b[0;34m(\u001b[0m\u001b[0mComplexNodeRemoval\u001b[0m\u001b[0;34m(\u001b[0m\u001b[0;34m)\u001b[0m\u001b[0;34m,\u001b[0m \u001b[0mexpr\u001b[0m\u001b[0;34m)\u001b[0m\u001b[0;34m\u001b[0m\u001b[0;34m\u001b[0m\u001b[0m\n\u001b[0m",
            "\u001b[0;32m/usr/local/lib/python3.8/dist-packages/ufl/algorithms/map_integrands.py\u001b[0m in \u001b[0;36mmap_integrand_dags\u001b[0;34m(function, form, only_integral_type, compress)\u001b[0m\n\u001b[1;32m     44\u001b[0m \u001b[0;34m\u001b[0m\u001b[0m\n\u001b[1;32m     45\u001b[0m \u001b[0;32mdef\u001b[0m \u001b[0mmap_integrand_dags\u001b[0m\u001b[0;34m(\u001b[0m\u001b[0mfunction\u001b[0m\u001b[0;34m,\u001b[0m \u001b[0mform\u001b[0m\u001b[0;34m,\u001b[0m \u001b[0monly_integral_type\u001b[0m\u001b[0;34m=\u001b[0m\u001b[0;32mNone\u001b[0m\u001b[0;34m,\u001b[0m \u001b[0mcompress\u001b[0m\u001b[0;34m=\u001b[0m\u001b[0;32mTrue\u001b[0m\u001b[0;34m)\u001b[0m\u001b[0;34m:\u001b[0m\u001b[0;34m\u001b[0m\u001b[0;34m\u001b[0m\u001b[0m\n\u001b[0;32m---> 46\u001b[0;31m     return map_integrands(lambda expr: map_expr_dag(function, expr, compress),\n\u001b[0m\u001b[1;32m     47\u001b[0m                           form, only_integral_type)\n",
            "\u001b[0;32m/usr/local/lib/python3.8/dist-packages/ufl/algorithms/map_integrands.py\u001b[0m in \u001b[0;36mmap_integrands\u001b[0;34m(function, form, only_integral_type)\u001b[0m\n\u001b[1;32m     25\u001b[0m     \"\"\"\n\u001b[1;32m     26\u001b[0m     \u001b[0;32mif\u001b[0m \u001b[0misinstance\u001b[0m\u001b[0;34m(\u001b[0m\u001b[0mform\u001b[0m\u001b[0;34m,\u001b[0m \u001b[0mForm\u001b[0m\u001b[0;34m)\u001b[0m\u001b[0;34m:\u001b[0m\u001b[0;34m\u001b[0m\u001b[0;34m\u001b[0m\u001b[0m\n\u001b[0;32m---> 27\u001b[0;31m         mapped_integrals = [map_integrands(function, itg, only_integral_type)\n\u001b[0m\u001b[1;32m     28\u001b[0m                             for itg in form.integrals()]\n\u001b[1;32m     29\u001b[0m         nonzero_integrals = [itg for itg in mapped_integrals\n",
            "\u001b[0;32m/usr/local/lib/python3.8/dist-packages/ufl/algorithms/map_integrands.py\u001b[0m in \u001b[0;36m<listcomp>\u001b[0;34m(.0)\u001b[0m\n\u001b[1;32m     25\u001b[0m     \"\"\"\n\u001b[1;32m     26\u001b[0m     \u001b[0;32mif\u001b[0m \u001b[0misinstance\u001b[0m\u001b[0;34m(\u001b[0m\u001b[0mform\u001b[0m\u001b[0;34m,\u001b[0m \u001b[0mForm\u001b[0m\u001b[0;34m)\u001b[0m\u001b[0;34m:\u001b[0m\u001b[0;34m\u001b[0m\u001b[0;34m\u001b[0m\u001b[0m\n\u001b[0;32m---> 27\u001b[0;31m         mapped_integrals = [map_integrands(function, itg, only_integral_type)\n\u001b[0m\u001b[1;32m     28\u001b[0m                             for itg in form.integrals()]\n\u001b[1;32m     29\u001b[0m         nonzero_integrals = [itg for itg in mapped_integrals\n",
            "\u001b[0;32m/usr/local/lib/python3.8/dist-packages/ufl/algorithms/map_integrands.py\u001b[0m in \u001b[0;36mmap_integrands\u001b[0;34m(function, form, only_integral_type)\u001b[0m\n\u001b[1;32m     33\u001b[0m         \u001b[0mitg\u001b[0m \u001b[0;34m=\u001b[0m \u001b[0mform\u001b[0m\u001b[0;34m\u001b[0m\u001b[0;34m\u001b[0m\u001b[0m\n\u001b[1;32m     34\u001b[0m         \u001b[0;32mif\u001b[0m \u001b[0;34m(\u001b[0m\u001b[0monly_integral_type\u001b[0m \u001b[0;32mis\u001b[0m \u001b[0;32mNone\u001b[0m\u001b[0;34m)\u001b[0m \u001b[0;32mor\u001b[0m \u001b[0;34m(\u001b[0m\u001b[0mitg\u001b[0m\u001b[0;34m.\u001b[0m\u001b[0mintegral_type\u001b[0m\u001b[0;34m(\u001b[0m\u001b[0;34m)\u001b[0m \u001b[0;32min\u001b[0m \u001b[0monly_integral_type\u001b[0m\u001b[0;34m)\u001b[0m\u001b[0;34m:\u001b[0m\u001b[0;34m\u001b[0m\u001b[0;34m\u001b[0m\u001b[0m\n\u001b[0;32m---> 35\u001b[0;31m             \u001b[0;32mreturn\u001b[0m \u001b[0mitg\u001b[0m\u001b[0;34m.\u001b[0m\u001b[0mreconstruct\u001b[0m\u001b[0;34m(\u001b[0m\u001b[0mfunction\u001b[0m\u001b[0;34m(\u001b[0m\u001b[0mitg\u001b[0m\u001b[0;34m.\u001b[0m\u001b[0mintegrand\u001b[0m\u001b[0;34m(\u001b[0m\u001b[0;34m)\u001b[0m\u001b[0;34m)\u001b[0m\u001b[0;34m)\u001b[0m\u001b[0;34m\u001b[0m\u001b[0;34m\u001b[0m\u001b[0m\n\u001b[0m\u001b[1;32m     36\u001b[0m         \u001b[0;32melse\u001b[0m\u001b[0;34m:\u001b[0m\u001b[0;34m\u001b[0m\u001b[0;34m\u001b[0m\u001b[0m\n\u001b[1;32m     37\u001b[0m             \u001b[0;32mreturn\u001b[0m \u001b[0mitg\u001b[0m\u001b[0;34m\u001b[0m\u001b[0;34m\u001b[0m\u001b[0m\n",
            "\u001b[0;32m/usr/local/lib/python3.8/dist-packages/ufl/algorithms/map_integrands.py\u001b[0m in \u001b[0;36m<lambda>\u001b[0;34m(expr)\u001b[0m\n\u001b[1;32m     44\u001b[0m \u001b[0;34m\u001b[0m\u001b[0m\n\u001b[1;32m     45\u001b[0m \u001b[0;32mdef\u001b[0m \u001b[0mmap_integrand_dags\u001b[0m\u001b[0;34m(\u001b[0m\u001b[0mfunction\u001b[0m\u001b[0;34m,\u001b[0m \u001b[0mform\u001b[0m\u001b[0;34m,\u001b[0m \u001b[0monly_integral_type\u001b[0m\u001b[0;34m=\u001b[0m\u001b[0;32mNone\u001b[0m\u001b[0;34m,\u001b[0m \u001b[0mcompress\u001b[0m\u001b[0;34m=\u001b[0m\u001b[0;32mTrue\u001b[0m\u001b[0;34m)\u001b[0m\u001b[0;34m:\u001b[0m\u001b[0;34m\u001b[0m\u001b[0;34m\u001b[0m\u001b[0m\n\u001b[0;32m---> 46\u001b[0;31m     return map_integrands(lambda expr: map_expr_dag(function, expr, compress),\n\u001b[0m\u001b[1;32m     47\u001b[0m                           form, only_integral_type)\n",
            "\u001b[0;32m/usr/local/lib/python3.8/dist-packages/ufl/corealg/map_dag.py\u001b[0m in \u001b[0;36mmap_expr_dag\u001b[0;34m(function, expression, compress, vcache, rcache)\u001b[0m\n\u001b[1;32m     34\u001b[0m     \u001b[0mReturn\u001b[0m \u001b[0mthe\u001b[0m \u001b[0mresult\u001b[0m \u001b[0mof\u001b[0m \u001b[0mthe\u001b[0m \u001b[0mfinal\u001b[0m \u001b[0mfunction\u001b[0m \u001b[0mcall\u001b[0m\u001b[0;34m.\u001b[0m\u001b[0;34m\u001b[0m\u001b[0;34m\u001b[0m\u001b[0m\n\u001b[1;32m     35\u001b[0m     \"\"\"\n\u001b[0;32m---> 36\u001b[0;31m     result, = map_expr_dags(function, [expression], compress=compress,\n\u001b[0m\u001b[1;32m     37\u001b[0m                             \u001b[0mvcache\u001b[0m\u001b[0;34m=\u001b[0m\u001b[0mvcache\u001b[0m\u001b[0;34m,\u001b[0m\u001b[0;34m\u001b[0m\u001b[0;34m\u001b[0m\u001b[0m\n\u001b[1;32m     38\u001b[0m                             rcache=rcache)\n",
            "\u001b[0;32m/usr/local/lib/python3.8/dist-packages/ufl/corealg/map_dag.py\u001b[0m in \u001b[0;36mmap_expr_dags\u001b[0;34m(function, expressions, compress, vcache, rcache)\u001b[0m\n\u001b[1;32m     97\u001b[0m                 \u001b[0mr\u001b[0m \u001b[0;34m=\u001b[0m \u001b[0mhandlers\u001b[0m\u001b[0;34m[\u001b[0m\u001b[0mv\u001b[0m\u001b[0;34m.\u001b[0m\u001b[0m_ufl_typecode_\u001b[0m\u001b[0;34m]\u001b[0m\u001b[0;34m(\u001b[0m\u001b[0mv\u001b[0m\u001b[0;34m)\u001b[0m\u001b[0;34m\u001b[0m\u001b[0;34m\u001b[0m\u001b[0m\n\u001b[1;32m     98\u001b[0m             \u001b[0;32melse\u001b[0m\u001b[0;34m:\u001b[0m\u001b[0;34m\u001b[0m\u001b[0;34m\u001b[0m\u001b[0m\n\u001b[0;32m---> 99\u001b[0;31m                 \u001b[0mr\u001b[0m \u001b[0;34m=\u001b[0m \u001b[0mhandlers\u001b[0m\u001b[0;34m[\u001b[0m\u001b[0mv\u001b[0m\u001b[0;34m.\u001b[0m\u001b[0m_ufl_typecode_\u001b[0m\u001b[0;34m]\u001b[0m\u001b[0;34m(\u001b[0m\u001b[0mv\u001b[0m\u001b[0;34m,\u001b[0m \u001b[0;34m*\u001b[0m\u001b[0;34m[\u001b[0m\u001b[0mvcache\u001b[0m\u001b[0;34m[\u001b[0m\u001b[0mu\u001b[0m\u001b[0;34m]\u001b[0m \u001b[0;32mfor\u001b[0m \u001b[0mu\u001b[0m \u001b[0;32min\u001b[0m \u001b[0mv\u001b[0m\u001b[0;34m.\u001b[0m\u001b[0mufl_operands\u001b[0m\u001b[0;34m]\u001b[0m\u001b[0;34m)\u001b[0m\u001b[0;34m\u001b[0m\u001b[0;34m\u001b[0m\u001b[0m\n\u001b[0m\u001b[1;32m    100\u001b[0m \u001b[0;34m\u001b[0m\u001b[0m\n\u001b[1;32m    101\u001b[0m             \u001b[0;31m# Optionally check if r is in rcache, a memory optimization\u001b[0m\u001b[0;34m\u001b[0m\u001b[0;34m\u001b[0m\u001b[0;34m\u001b[0m\u001b[0m\n",
            "\u001b[0;32m/usr/local/lib/python3.8/dist-packages/ufl/algorithms/remove_complex_nodes.py\u001b[0m in \u001b[0;36mterminal\u001b[0;34m(self, t, *ops)\u001b[0m\n\u001b[1;32m     24\u001b[0m     \u001b[0;32mdef\u001b[0m \u001b[0mterminal\u001b[0m\u001b[0;34m(\u001b[0m\u001b[0mself\u001b[0m\u001b[0;34m,\u001b[0m \u001b[0mt\u001b[0m\u001b[0;34m,\u001b[0m \u001b[0;34m*\u001b[0m\u001b[0mops\u001b[0m\u001b[0;34m)\u001b[0m\u001b[0;34m:\u001b[0m\u001b[0;34m\u001b[0m\u001b[0;34m\u001b[0m\u001b[0m\n\u001b[1;32m     25\u001b[0m         \u001b[0;32mif\u001b[0m \u001b[0misinstance\u001b[0m\u001b[0;34m(\u001b[0m\u001b[0mt\u001b[0m\u001b[0;34m,\u001b[0m \u001b[0mComplexValue\u001b[0m\u001b[0;34m)\u001b[0m\u001b[0;34m:\u001b[0m\u001b[0;34m\u001b[0m\u001b[0;34m\u001b[0m\u001b[0m\n\u001b[0;32m---> 26\u001b[0;31m             \u001b[0merror\u001b[0m\u001b[0;34m(\u001b[0m\u001b[0;34m'Unexpected complex value in real expression.'\u001b[0m\u001b[0;34m)\u001b[0m\u001b[0;34m\u001b[0m\u001b[0;34m\u001b[0m\u001b[0m\n\u001b[0m\u001b[1;32m     27\u001b[0m         \u001b[0;32melse\u001b[0m\u001b[0;34m:\u001b[0m\u001b[0;34m\u001b[0m\u001b[0;34m\u001b[0m\u001b[0m\n\u001b[1;32m     28\u001b[0m             \u001b[0;32mreturn\u001b[0m \u001b[0mt\u001b[0m\u001b[0;34m\u001b[0m\u001b[0;34m\u001b[0m\u001b[0m\n",
            "\u001b[0;32m/usr/local/lib/python3.8/dist-packages/ufl/log.py\u001b[0m in \u001b[0;36merror\u001b[0;34m(self, *message)\u001b[0m\n\u001b[1;32m    133\u001b[0m         \u001b[0;34m\"Write error message and raise an exception.\"\u001b[0m\u001b[0;34m\u001b[0m\u001b[0;34m\u001b[0m\u001b[0m\n\u001b[1;32m    134\u001b[0m         \u001b[0mself\u001b[0m\u001b[0;34m.\u001b[0m\u001b[0m_log\u001b[0m\u001b[0;34m.\u001b[0m\u001b[0merror\u001b[0m\u001b[0;34m(\u001b[0m\u001b[0;34m*\u001b[0m\u001b[0mmessage\u001b[0m\u001b[0;34m)\u001b[0m\u001b[0;34m\u001b[0m\u001b[0;34m\u001b[0m\u001b[0m\n\u001b[0;32m--> 135\u001b[0;31m         \u001b[0;32mraise\u001b[0m \u001b[0mself\u001b[0m\u001b[0;34m.\u001b[0m\u001b[0m_exception_type\u001b[0m\u001b[0;34m(\u001b[0m\u001b[0mself\u001b[0m\u001b[0;34m.\u001b[0m\u001b[0m_format_raw\u001b[0m\u001b[0;34m(\u001b[0m\u001b[0;34m*\u001b[0m\u001b[0mmessage\u001b[0m\u001b[0;34m)\u001b[0m\u001b[0;34m)\u001b[0m\u001b[0;34m\u001b[0m\u001b[0;34m\u001b[0m\u001b[0m\n\u001b[0m\u001b[1;32m    136\u001b[0m \u001b[0;34m\u001b[0m\u001b[0m\n\u001b[1;32m    137\u001b[0m     \u001b[0;32mdef\u001b[0m \u001b[0mbegin\u001b[0m\u001b[0;34m(\u001b[0m\u001b[0mself\u001b[0m\u001b[0;34m,\u001b[0m \u001b[0;34m*\u001b[0m\u001b[0mmessage\u001b[0m\u001b[0;34m)\u001b[0m\u001b[0;34m:\u001b[0m\u001b[0;34m\u001b[0m\u001b[0;34m\u001b[0m\u001b[0m\n",
            "\u001b[0;31mUFLException\u001b[0m: Unexpected complex value in real expression."
          ]
        }
      ]
    },
    {
      "cell_type": "code",
      "source": [
        "solver.solve()"
      ],
      "metadata": {
        "id": "i0Ziq3q-SQSA"
      },
      "execution_count": null,
      "outputs": []
    },
    {
      "cell_type": "code",
      "source": [
        "from dolfinx.io import XDMFFile\n",
        "\n",
        "with XDMFFile(MPI.COMM_WORLD, \"out.xdmf\", \"w\") as file:\n",
        "    file.write_mesh(domain)\n",
        "    file.write_function(u1)"
      ],
      "metadata": {
        "id": "QHQSqfVlSjek"
      },
      "execution_count": null,
      "outputs": []
    },
    {
      "cell_type": "code",
      "source": [
        "# Start a virtual plot window for PyVista in CoLab.\n",
        "pyvista.start_xvfb()\n",
        "pyvista.set_jupyter_backend(\"pythreejs\")"
      ],
      "metadata": {
        "id": "Jl-cIwROSnDv"
      },
      "execution_count": null,
      "outputs": []
    },
    {
      "cell_type": "code",
      "source": [
        "\n",
        "# Prepare the mesh for plotting.\n",
        "topology, cells, geometry = dolfinx.plot.create_vtk_mesh(mesh)\n",
        "\n",
        "# Turn the mesh into a PyVista grid.\n",
        "grid = pyvista.UnstructuredGrid(topology, cells, geometry)\n",
        "\n",
        "# Create the plot and export it to HTML.\n",
        "plotter = pyvista.Plotter(window_size=(800, 400))\n",
        "renderer = plotter.add_mesh(grid, show_edges=True, style=\"wireframe\")\n",
        "plotter.view_xy()\n",
        "\n",
        "# Save the HTML file.\n",
        "plotter.export_html(\"./grid.html\", backend=\"pythreejs\")\n",
        "\n",
        "# Use the IPython library to embed the HTML in the CoLab notebook.\n",
        "display.HTML(filename='/content/grid.html')\n",
        "     "
      ],
      "metadata": {
        "id": "NUpmn3APSrT1"
      },
      "execution_count": null,
      "outputs": []
    },
    {
      "cell_type": "code",
      "source": [
        "pyvista.set_jupyter_backend(\"pythreejs\")\n",
        "\n",
        "### Works for Lagrange function spaces\n",
        "# topology, cells, geometry = dolfinx.plot.create_vtk_mesh(V)\n",
        "# values = u.x.array.real.reshape((geometry.shape[0], len(u)))\n",
        "\n",
        "### Necessary for N1curl function space\n",
        "V0 = dolfinx.fem.VectorFunctionSpace(mesh, (\"Discontinuous Lagrange\", 1))\n",
        "u0 = dolfinx.fem.Function(V0, dtype=petsc.ScalarType)\n",
        "u0.interpolate(u1)\n",
        "topology, cells, geometry = dolfinx.plot.create_vtk_mesh(V0)\n",
        "values = u0.x.array.real.reshape((geometry.shape[0], len(u0)))\n",
        "\n",
        "### Same for both after this ... ###\n",
        "\n",
        "# Create a point cloud of glyphs\n",
        "function_grid = pyvista.UnstructuredGrid(topology, cells, geometry)\n",
        "function_grid[\"u\"] = values\n",
        "glyphs = function_grid.glyph(orient=\"u\", factor=0.2)\n",
        "\n",
        "# Create a pyvista-grid for the mesh\n",
        "grid = pyvista.UnstructuredGrid(*dolfinx.plot.create_vtk_mesh(mesh, mesh.topology.dim))\n",
        "\n",
        "# Create plotter\n",
        "plotter = pyvista.Plotter(window_size=(800, 400))\n",
        "plotter.add_mesh(grid, style=\"wireframe\", color=\"k\")\n",
        "plotter.add_mesh(glyphs)\n",
        "plotter.view_xy()\n",
        "\n",
        "# Save the HTML file.\n",
        "plotter.export_html(\"./grid.html\", backend=\"pythreejs\")\n",
        "\n",
        "# Use the IPython library to embed the HTML in the CoLab notebook.\n",
        "display.HTML(filename='/content/grid.html')"
      ],
      "metadata": {
        "id": "OBBAu1dLSw3r"
      },
      "execution_count": null,
      "outputs": []
    },
    {
      "cell_type": "code",
      "source": [
        "\n",
        "\n",
        "# # Define the trial and test functions.\n",
        "# u = ufl.TrialFunction(V)\n",
        "# v = ufl.TestFunction(V)\n",
        "\n",
        "# # Create a function to store the solution.\n",
        "# A = fem.Function(V)\n",
        "# # f = fem.Constant(0.0)\n",
        "# # L = f\n",
        "\n",
        "\n",
        "# # This is the FEM version of the Helmholtz equation.\n",
        "# # It includes a boundary term, indicated by \"ds\".\n",
        "# a =  ufl.inner(ufl.grad(u), ufl.grad(v)) * ufl.dx \\\n",
        "#     + (omega**2 / c) * ufl.inner(u, v) * ufl.dx\n",
        "\n",
        "# source_term = -1 * (4*ufl.pi / c) * ufl.inner(J, v) * ufl.dx \n",
        "#             # + 2.0 * k0 * ufl.inner(v, ufl.cross(n_hat, r))\n",
        "\n",
        "# bc_term = 2.0 * k0 * ufl.inner(v, ufl.cross(n_hat, r)) * ufl.dx\n",
        "\n",
        "# # This is the boundary condition.\n",
        "# # L = ufl.inner(g, v) * ufl.ds + source_term\n",
        "# # L = ufl.finiteelement.enrichedelement.EnrichedElement(source_term, bc_term)\n",
        "# L = source_term #+ bc_term\n",
        "\n",
        "# # Put it all together for FEniCSx.\n",
        "# problem = fem.petsc.LinearProblem(a, L, u=A, petsc_options={\"ksp_type\": \"preonly\", \"pc_type\": \"lu\"})\n",
        "\n",
        "# # Now, solve it!\n",
        "# problem.solve()\n",
        "\n",
        "# # Tie up some loose ends.\n",
        "# A.vector.ghostUpdate(addv=petsc.InsertMode.INSERT, mode=petsc.ScatterMode.FORWARD)\n",
        "\n",
        "# display.clear_output()"
      ],
      "metadata": {
        "id": "yUwTXhuKAq0v"
      },
      "execution_count": null,
      "outputs": []
    },
    {
      "cell_type": "code",
      "source": [
        "# multiphenicsx.io.plot_vector_field(A, \"vector potential\")"
      ],
      "metadata": {
        "id": "mr9kT_Qn_Xwn"
      },
      "execution_count": null,
      "outputs": []
    }
  ]
}